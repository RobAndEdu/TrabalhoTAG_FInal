{
 "cells": [
  {
   "cell_type": "markdown",
   "metadata": {},
   "source": [
    "# <font color='blue'>Trabalho Final de Tópicos Avançados em Gestão de Dados</font>\n",
    "##### Turma 168 - 2020/2\n",
    "## *Prof. Dr. Rodrigo Espindola*"
   ]
  },
  {
   "cell_type": "markdown",
   "metadata": {},
   "source": [
    "## Alunos\n",
    "#### <font color='orange'>*Robson Andrei dos Santos - 13205021-2 robson.andrei@edu.pucrs.br*</font>\n",
    "#### <font color='orange'>*Diego Cansi Matté - 08104810-0 diego.matte@edu.pucrs.br* </font>"
   ]
  },
  {
   "cell_type": "markdown",
   "metadata": {},
   "source": [
    "O trabalho final desta disciplina consiste na construção de um modelo preditivo de classificação através do emprego das técnicas de aprendizagem supervisionada usando redes neurais artificiais vistas em aula. As técnicas a serem empregadas precisam ser obrigatoriamente aquelas estudadas em aula nesta disciplina, nesta turma, neste semestre. O trabalho deve ser realizado em duplas. Para isto, cada dupla de alunos(as) deve:"
   ]
  },
  {
   "cell_type": "markdown",
   "metadata": {},
   "source": [
    "   ###### Escolher uma base de dados disponível publicamente\n",
    "   https://archive.ics.uci.edu/ml/datasets/abalone\n",
    "   \n",
    "   https://datahub.io/machine-learning/abalone#resource-abalone_zip\n",
    "   \n",
    "   Objetivo desta base: prever a idade do abalone a partir de medições físicas. A idade do abalone é determinada cortando a concha através do cone, colorindo-a e contando o número de anéis através de um microscópio - uma tarefa tediosa e demorada. Outras medidas, mais fáceis de obter, são utilizadas para prever a idade.\n",
    "\n",
    "Dos dados originais, os exemplos com valores ausentes foram removidos (a maioria tendo o valor predito ausente) e os intervalos dos valores contínuos foram escalados para uso com uma ANN (dividindo por 200).\n",
    "\n",
    "\n",
    "Informações sobre o atributo:\n",
    "\n",
    "É fornecido o nome do atributo, o tipo de atributo, a unidade de medida e uma breve descrição. O número de toques é o valor a prever: seja como um valor contínuo ou como um problema de classificação.\n",
    "\n",
    "\n",
    "\n",
    "Nome / Tipo de dados / Unidade de medida / Descrição\n",
    "-----------------------------\n",
    "Sexo / nominal / - / M, F e I (infantil)\n",
    "\n",
    "Comprimento / contínuo / mm / Medida de casca mais longa\n",
    "\n",
    "Diâmetro / contínua / mm / perpendicular ao comprimento\n",
    "\n",
    "Altura / contínua / mm / com carne na casca\n",
    "\n",
    "Peso inteiro / contínuo / gramas / abalone inteiro\n",
    "\n",
    "Peso descascado / contínuo / gramas /\n",
    "\n",
    "Peso das vísceras da carne / contínuo / gramas / peso intestinal (após sangramento)\n",
    "\n",
    "Peso da casca / contínuo / gramas / após secagem\n",
    "\n",
    "Toques / inteiro / +1,5 fornece a idade em anos\n"
   ]
  },
  {
   "cell_type": "markdown",
   "metadata": {},
   "source": [
    "\n",
    "<img alt=\"H. asinina, do Indo-Pacífico, é considerada a espécie-tipo do gênero Haliotis.[1][2]\" src=\"//upload.wikimedia.org/wikipedia/commons/thumb/d/d6/Haliotis_asinina_01.JPG/280px-Haliotis_asinina_01.JPG\" decoding=\"async\" width=\"280\" height=\"243\" srcset=\"//upload.wikimedia.org/wikipedia/commons/thumb/d/d6/Haliotis_asinina_01.JPG/420px-Haliotis_asinina_01.JPG 1.5x, //upload.wikimedia.org/wikipedia/commons/thumb/d/d6/Haliotis_asinina_01.JPG/560px-Haliotis_asinina_01.JPG 2x\" data-file-width=\"6000\" data-file-height=\"5216\">\n",
    "\n",
    "<div id=\"mwe_player_0\" class=\"PopUpMediaTransform\" style=\"width:220px;\" videopayload=\"<div class=&quot;mediaContainer&quot; style=&quot;width:640px&quot;><video id=&quot;mwe_player_1&quot; poster=&quot;//upload.wikimedia.org/wikipedia/commons/thumb/7/70/Haliotis_tuberculata.ogv/640px--Haliotis_tuberculata.ogv.jpg&quot; controls=&quot;&quot; preload=&quot;none&quot; autoplay=&quot;&quot; style=&quot;width:640px;height:480px&quot; class=&quot;kskin&quot; data-durationhint=&quot;10.046511627907&quot; data-startoffset=&quot;0&quot; data-mwtitle=&quot;Haliotis_tuberculata.ogv&quot; data-mwprovider=&quot;wikimediacommons&quot;><source src=&quot;//upload.wikimedia.org/wikipedia/commons/transcoded/7/70/Haliotis_tuberculata.ogv/Haliotis_tuberculata.ogv.480p.webm&quot; type=&quot;video/webm; codecs=&amp;quot;vp8, vorbis&amp;quot;&quot; data-title=&quot;WebM SD (480P)&quot; data-shorttitle=&quot;WebM 480P&quot; data-transcodekey=&quot;480p.webm&quot; data-width=&quot;640&quot; data-height=&quot;480&quot; data-bandwidth=&quot;1090848&quot; data-framerate=&quot;25.083333333333&quot;/><source src=&quot;//upload.wikimedia.org/wikipedia/commons/transcoded/7/70/Haliotis_tuberculata.ogv/Haliotis_tuberculata.ogv.480p.vp9.webm&quot; type=&quot;video/webm; codecs=&amp;quot;vp9, opus&amp;quot;&quot; data-title=&quot;VP9 SD (480P)&quot; data-shorttitle=&quot;VP9 480P&quot; data-transcodekey=&quot;480p.vp9.webm&quot; data-width=&quot;640&quot; data-height=&quot;480&quot; data-bandwidth=&quot;1156432&quot; data-framerate=&quot;25.083333333333&quot;/><source src=&quot;//upload.wikimedia.org/wikipedia/commons/7/70/Haliotis_tuberculata.ogv&quot; type=&quot;video/ogg; codecs=&amp;quot;theora, vorbis&amp;quot;&quot; data-title=&quot;Ficheiro Ogg original, 640 × 480 (1,89 Mbps)&quot; data-shorttitle=&quot;Fonte Ogg&quot; data-width=&quot;640&quot; data-height=&quot;480&quot; data-bandwidth=&quot;1887186&quot; data-framerate=&quot;25.083333333333&quot;/><source src=&quot;//upload.wikimedia.org/wikipedia/commons/transcoded/7/70/Haliotis_tuberculata.ogv/Haliotis_tuberculata.ogv.120p.vp9.webm&quot; type=&quot;video/webm; codecs=&amp;quot;vp9, opus&amp;quot;&quot; data-title=&quot;VP9 da menor largura de banda(120P)&quot; data-shorttitle=&quot;VP9 120P&quot; data-transcodekey=&quot;120p.vp9.webm&quot; data-width=&quot;160&quot; data-height=&quot;120&quot; data-bandwidth=&quot;195208&quot; data-framerate=&quot;25.083333333333&quot;/><source src=&quot;//upload.wikimedia.org/wikipedia/commons/transcoded/7/70/Haliotis_tuberculata.ogv/Haliotis_tuberculata.ogv.160p.webm&quot; type=&quot;video/webm; codecs=&amp;quot;vp8, vorbis&amp;quot;&quot; data-title=&quot;WebM de baixa largura de banda (160P)&quot; data-shorttitle=&quot;WebM 160P&quot; data-transcodekey=&quot;160p.webm&quot; data-width=&quot;214&quot; data-height=&quot;160&quot; data-bandwidth=&quot;221552&quot; data-framerate=&quot;25.083333333333&quot;/><source src=&quot;//upload.wikimedia.org/wikipedia/commons/transcoded/7/70/Haliotis_tuberculata.ogv/Haliotis_tuberculata.ogv.180p.vp9.webm&quot; type=&quot;video/webm; codecs=&amp;quot;vp9, opus&amp;quot;&quot; data-title=&quot;VP9 de baixa largura de banda (180P)&quot; data-shorttitle=&quot;VP9 180P&quot; data-transcodekey=&quot;180p.vp9.webm&quot; data-width=&quot;240&quot; data-height=&quot;180&quot; data-bandwidth=&quot;281640&quot; data-framerate=&quot;25.083333333333&quot;/><source src=&quot;//upload.wikimedia.org/wikipedia/commons/transcoded/7/70/Haliotis_tuberculata.ogv/Haliotis_tuberculata.ogv.240p.webm&quot; type=&quot;video/webm; codecs=&amp;quot;vp8, vorbis&amp;quot;&quot; data-title=&quot;WebM pequeno (240P)&quot; data-shorttitle=&quot;WebM 240P&quot; data-transcodekey=&quot;240p.webm&quot; data-width=&quot;320&quot; data-height=&quot;240&quot; data-bandwidth=&quot;329096&quot; data-framerate=&quot;25.083333333333&quot;/><source src=&quot;//upload.wikimedia.org/wikipedia/commons/transcoded/7/70/Haliotis_tuberculata.ogv/Haliotis_tuberculata.ogv.240p.vp9.webm&quot; type=&quot;video/webm; codecs=&amp;quot;vp9, opus&amp;quot;&quot; data-title=&quot;VP9 pequeno (240P)&quot; data-shorttitle=&quot;VP9 240P&quot; data-transcodekey=&quot;240p.vp9.webm&quot; data-width=&quot;320&quot; data-height=&quot;240&quot; data-bandwidth=&quot;389560&quot; data-framerate=&quot;25.083333333333&quot;/><source src=&quot;//upload.wikimedia.org/wikipedia/commons/transcoded/7/70/Haliotis_tuberculata.ogv/Haliotis_tuberculata.ogv.360p.webm&quot; type=&quot;video/webm; codecs=&amp;quot;vp8, vorbis&amp;quot;&quot; data-title=&quot;WebM para web streaming (360P)&quot; data-shorttitle=&quot;WebM 360P&quot; data-transcodekey=&quot;360p.webm&quot; data-width=&quot;480&quot; data-height=&quot;360&quot; data-bandwidth=&quot;578000&quot; data-framerate=&quot;25.083333333333&quot;/><source src=&quot;//upload.wikimedia.org/wikipedia/commons/transcoded/7/70/Haliotis_tuberculata.ogv/Haliotis_tuberculata.ogv.360p.vp9.webm&quot; type=&quot;video/webm; codecs=&amp;quot;vp9, opus&amp;quot;&quot; data-title=&quot;VP9 (360P)&quot; data-shorttitle=&quot;VP9 360P&quot; data-transcodekey=&quot;360p.vp9.webm&quot; data-width=&quot;480&quot; data-height=&quot;360&quot; data-bandwidth=&quot;633544&quot; data-framerate=&quot;25.083333333333&quot;/></video></div>\"><img alt=\"Ficheiro:Haliotis tuberculata.ogv\" style=\"width:220px;height:165px\" src=\"//upload.wikimedia.org/wikipedia/commons/thumb/7/70/Haliotis_tuberculata.ogv/220px--Haliotis_tuberculata.ogv.jpg\"><a href=\"//upload.wikimedia.org/wikipedia/commons/7/70/Haliotis_tuberculata.ogv\" title=\"Reproduzir conteúdo\" target=\"new\"><span class=\"play-btn-large\"><span class=\"mw-tmh-playtext\">Reproduzir conteúdo</span></span></a></div>\n"
   ]
  },
  {
   "cell_type": "markdown",
   "metadata": {},
   "source": []
  },
  {
   "cell_type": "markdown",
   "metadata": {},
   "source": [
    "#### *Coluna alvo do modelo*\n",
    "<font color='blue'>Coluna alvo escolhida foi </font>\n",
    "<font color='red'>*Class_number_of_rings*</font>\n",
    "<font color='blue'> - Esta coluna contém o resultado do cálculo acrecido de 1,5 para indicar a idade do Abalone.</font>\n"
   ]
  },
  {
   "cell_type": "markdown",
   "metadata": {},
   "source": [
    "#### *Objetivo do modelo preditivo e justificativa*\n",
    "<font color='blue'>O objetivo do modelo é predizer a idade do Abalone, por conta das características apresentadas como; peso, tamanho, etc, pretendemos apresentar um modelo que seja capaz de predizer a idade usando um modelo de classificação dividindo a idades em dois grupos, Abalones com idade <font color='red'>menores de dez anos </font>de idade e <font color='red'>maiores de dez anos</font>, lembrando que a idade do abalone pode variar de um a vinte anos.</font>\n",
    "<font color='red'>Justificamos</font> <font color='blue'>a escolha deste objetivo por conta que o Abalone é um molusco de alta procura, e que sustenta um mercado milionário, sua pesca de maneira descontrolada e ilegal trás sérios  prejuízos a sua proliferação, e a sustentação de pescadores credenciados que tem licença para a pesca,  controladas por meio de cotas sustentáveis, como o processo para determinar a idade do molusco é trabalhosa e demorada, envolvendo uma análise física, sendo necessária o corte da concha, e a coloração dos seus anéis por meio do uso de um processo microscópico, justificamos o uso do modelo para a  predição da sua idade de maneira  mais fácil.</font>\n",
    "\n",
    "\n"
   ]
  },
  {
   "cell_type": "markdown",
   "metadata": {},
   "source": [
    "#### <font color='red'>*Análise exploratória dos dados*</font>"
   ]
  },
  {
   "cell_type": "code",
   "execution_count": 59,
   "metadata": {
    "scrolled": true
   },
   "outputs": [
    {
     "data": {
      "text/html": [
       "<div>\n",
       "<style scoped>\n",
       "    .dataframe tbody tr th:only-of-type {\n",
       "        vertical-align: middle;\n",
       "    }\n",
       "\n",
       "    .dataframe tbody tr th {\n",
       "        vertical-align: top;\n",
       "    }\n",
       "\n",
       "    .dataframe thead th {\n",
       "        text-align: right;\n",
       "    }\n",
       "</style>\n",
       "<table border=\"1\" class=\"dataframe\">\n",
       "  <thead>\n",
       "    <tr style=\"text-align: right;\">\n",
       "      <th></th>\n",
       "      <th>Sex</th>\n",
       "      <th>Length</th>\n",
       "      <th>Diameter</th>\n",
       "      <th>Height</th>\n",
       "      <th>Whole_weight</th>\n",
       "      <th>Shucked_weight</th>\n",
       "      <th>Viscera_weight</th>\n",
       "      <th>Shell_weight</th>\n",
       "      <th>Class_number_of_rings</th>\n",
       "    </tr>\n",
       "  </thead>\n",
       "  <tbody>\n",
       "    <tr>\n",
       "      <th>0</th>\n",
       "      <td>M</td>\n",
       "      <td>0.455</td>\n",
       "      <td>0.365</td>\n",
       "      <td>0.095</td>\n",
       "      <td>0.5140</td>\n",
       "      <td>0.2245</td>\n",
       "      <td>0.1010</td>\n",
       "      <td>0.150</td>\n",
       "      <td>15</td>\n",
       "    </tr>\n",
       "    <tr>\n",
       "      <th>1</th>\n",
       "      <td>M</td>\n",
       "      <td>0.350</td>\n",
       "      <td>0.265</td>\n",
       "      <td>0.090</td>\n",
       "      <td>0.2255</td>\n",
       "      <td>0.0995</td>\n",
       "      <td>0.0485</td>\n",
       "      <td>0.070</td>\n",
       "      <td>7</td>\n",
       "    </tr>\n",
       "    <tr>\n",
       "      <th>2</th>\n",
       "      <td>F</td>\n",
       "      <td>0.530</td>\n",
       "      <td>0.420</td>\n",
       "      <td>0.135</td>\n",
       "      <td>0.6770</td>\n",
       "      <td>0.2565</td>\n",
       "      <td>0.1415</td>\n",
       "      <td>0.210</td>\n",
       "      <td>9</td>\n",
       "    </tr>\n",
       "    <tr>\n",
       "      <th>3</th>\n",
       "      <td>M</td>\n",
       "      <td>0.440</td>\n",
       "      <td>0.365</td>\n",
       "      <td>0.125</td>\n",
       "      <td>0.5160</td>\n",
       "      <td>0.2155</td>\n",
       "      <td>0.1140</td>\n",
       "      <td>0.155</td>\n",
       "      <td>10</td>\n",
       "    </tr>\n",
       "    <tr>\n",
       "      <th>4</th>\n",
       "      <td>I</td>\n",
       "      <td>0.330</td>\n",
       "      <td>0.255</td>\n",
       "      <td>0.080</td>\n",
       "      <td>0.2050</td>\n",
       "      <td>0.0895</td>\n",
       "      <td>0.0395</td>\n",
       "      <td>0.055</td>\n",
       "      <td>7</td>\n",
       "    </tr>\n",
       "  </tbody>\n",
       "</table>\n",
       "</div>"
      ],
      "text/plain": [
       "  Sex  Length  Diameter  Height  Whole_weight  Shucked_weight  Viscera_weight  \\\n",
       "0   M   0.455     0.365   0.095        0.5140          0.2245          0.1010   \n",
       "1   M   0.350     0.265   0.090        0.2255          0.0995          0.0485   \n",
       "2   F   0.530     0.420   0.135        0.6770          0.2565          0.1415   \n",
       "3   M   0.440     0.365   0.125        0.5160          0.2155          0.1140   \n",
       "4   I   0.330     0.255   0.080        0.2050          0.0895          0.0395   \n",
       "\n",
       "   Shell_weight  Class_number_of_rings  \n",
       "0         0.150                     15  \n",
       "1         0.070                      7  \n",
       "2         0.210                      9  \n",
       "3         0.155                     10  \n",
       "4         0.055                      7  "
      ]
     },
     "execution_count": 59,
     "metadata": {},
     "output_type": "execute_result"
    }
   ],
   "source": [
    "import pandas as pd\n",
    "import numpy as np\n",
    "dados = pd.read_csv(\"Abalone/abalone_zip/data/abalone_csv.csv\");\n",
    "dados.head()"
   ]
  },
  {
   "cell_type": "code",
   "execution_count": 60,
   "metadata": {},
   "outputs": [
    {
     "name": "stdout",
     "output_type": "stream",
     "text": [
      "<class 'pandas.core.frame.DataFrame'>\n",
      "RangeIndex: 4177 entries, 0 to 4176\n",
      "Data columns (total 9 columns):\n",
      " #   Column                 Non-Null Count  Dtype  \n",
      "---  ------                 --------------  -----  \n",
      " 0   Sex                    4177 non-null   object \n",
      " 1   Length                 4177 non-null   float64\n",
      " 2   Diameter               4177 non-null   float64\n",
      " 3   Height                 4177 non-null   float64\n",
      " 4   Whole_weight           4177 non-null   float64\n",
      " 5   Shucked_weight         4177 non-null   float64\n",
      " 6   Viscera_weight         4177 non-null   float64\n",
      " 7   Shell_weight           4177 non-null   float64\n",
      " 8   Class_number_of_rings  4177 non-null   int64  \n",
      "dtypes: float64(7), int64(1), object(1)\n",
      "memory usage: 293.8+ KB\n"
     ]
    }
   ],
   "source": [
    "dados.info()"
   ]
  },
  {
   "cell_type": "code",
   "execution_count": 61,
   "metadata": {},
   "outputs": [
    {
     "data": {
      "text/plain": [
       "(4177, 9)"
      ]
     },
     "execution_count": 61,
     "metadata": {},
     "output_type": "execute_result"
    }
   ],
   "source": [
    "dados.shape"
   ]
  },
  {
   "cell_type": "code",
   "execution_count": 62,
   "metadata": {},
   "outputs": [
    {
     "data": {
      "text/plain": [
       "0    15\n",
       "1     7\n",
       "2     9\n",
       "3    10\n",
       "4     7\n",
       "5     8\n",
       "6    20\n",
       "7    16\n",
       "8     9\n",
       "9    19\n",
       "Name: Class_number_of_rings, dtype: int64"
      ]
     },
     "execution_count": 62,
     "metadata": {},
     "output_type": "execute_result"
    }
   ],
   "source": [
    "dados['Class_number_of_rings'].head(10)"
   ]
  },
  {
   "cell_type": "markdown",
   "metadata": {},
   "source": [
    "##### Escolha da coluna alvo"
   ]
  },
  {
   "cell_type": "code",
   "execution_count": 63,
   "metadata": {},
   "outputs": [
    {
     "data": {
      "text/plain": [
       "0       15\n",
       "1        7\n",
       "2        9\n",
       "3       10\n",
       "4        7\n",
       "        ..\n",
       "4172    11\n",
       "4173    10\n",
       "4174     9\n",
       "4175    10\n",
       "4176    12\n",
       "Name: Class_number_of_rings, Length: 4177, dtype: int64"
      ]
     },
     "execution_count": 63,
     "metadata": {},
     "output_type": "execute_result"
    }
   ],
   "source": [
    "col_alvo = dados['Class_number_of_rings'];\n",
    "col_alvo"
   ]
  },
  {
   "cell_type": "markdown",
   "metadata": {},
   "source": [
    "*Dados faltantes*"
   ]
  },
  {
   "cell_type": "code",
   "execution_count": 64,
   "metadata": {},
   "outputs": [
    {
     "data": {
      "text/plain": [
       "Sex                      0\n",
       "Length                   0\n",
       "Diameter                 0\n",
       "Height                   0\n",
       "Whole_weight             0\n",
       "Shucked_weight           0\n",
       "Viscera_weight           0\n",
       "Shell_weight             0\n",
       "Class_number_of_rings    0\n",
       "dtype: int64"
      ]
     },
     "execution_count": 64,
     "metadata": {},
     "output_type": "execute_result"
    }
   ],
   "source": [
    "faltantes = dados.isnull().sum()#Soma dos dados faltantes\n",
    "faltantes\n",
    "# Soma das linhas onde tem algum dado faltante de acordo com a coluna\n",
    "# Excluindo colunas desnecessárias "
   ]
  },
  {
   "cell_type": "markdown",
   "metadata": {},
   "source": [
    "#### <font color='red'>*Pré-processamento dos dados*</font>"
   ]
  },
  {
   "cell_type": "markdown",
   "metadata": {},
   "source": [
    "Como nossos atributos numéricos já se encontram em medidas padronizadas, milímetros e gramas, o pré-processamento dos dados fica ainda mais simples.\n"
   ]
  },
  {
   "cell_type": "code",
   "execution_count": 65,
   "metadata": {},
   "outputs": [
    {
     "data": {
      "text/plain": [
       "['Length',\n",
       " 'Diameter',\n",
       " 'Height',\n",
       " 'Whole_weight',\n",
       " 'Shucked_weight',\n",
       " 'Viscera_weight',\n",
       " 'Shell_weight']"
      ]
     },
     "execution_count": 65,
     "metadata": {},
     "output_type": "execute_result"
    }
   ],
   "source": [
    "feature_names = ['Length', \n",
    "                 'Diameter',\n",
    "                 'Height',\n",
    "                 'Whole_weight',\n",
    "                 'Shucked_weight',\n",
    "                 'Viscera_weight',\n",
    "                 'Shell_weight']\n",
    "feature_names"
   ]
  },
  {
   "cell_type": "code",
   "execution_count": 66,
   "metadata": {},
   "outputs": [
    {
     "data": {
      "text/html": [
       "<div>\n",
       "<style scoped>\n",
       "    .dataframe tbody tr th:only-of-type {\n",
       "        vertical-align: middle;\n",
       "    }\n",
       "\n",
       "    .dataframe tbody tr th {\n",
       "        vertical-align: top;\n",
       "    }\n",
       "\n",
       "    .dataframe thead th {\n",
       "        text-align: right;\n",
       "    }\n",
       "</style>\n",
       "<table border=\"1\" class=\"dataframe\">\n",
       "  <thead>\n",
       "    <tr style=\"text-align: right;\">\n",
       "      <th></th>\n",
       "      <th>Length</th>\n",
       "      <th>Diameter</th>\n",
       "      <th>Height</th>\n",
       "      <th>Whole_weight</th>\n",
       "      <th>Shucked_weight</th>\n",
       "      <th>Viscera_weight</th>\n",
       "      <th>Shell_weight</th>\n",
       "    </tr>\n",
       "  </thead>\n",
       "  <tbody>\n",
       "    <tr>\n",
       "      <th>0</th>\n",
       "      <td>0.455</td>\n",
       "      <td>0.365</td>\n",
       "      <td>0.095</td>\n",
       "      <td>0.5140</td>\n",
       "      <td>0.2245</td>\n",
       "      <td>0.1010</td>\n",
       "      <td>0.150</td>\n",
       "    </tr>\n",
       "    <tr>\n",
       "      <th>1</th>\n",
       "      <td>0.350</td>\n",
       "      <td>0.265</td>\n",
       "      <td>0.090</td>\n",
       "      <td>0.2255</td>\n",
       "      <td>0.0995</td>\n",
       "      <td>0.0485</td>\n",
       "      <td>0.070</td>\n",
       "    </tr>\n",
       "    <tr>\n",
       "      <th>2</th>\n",
       "      <td>0.530</td>\n",
       "      <td>0.420</td>\n",
       "      <td>0.135</td>\n",
       "      <td>0.6770</td>\n",
       "      <td>0.2565</td>\n",
       "      <td>0.1415</td>\n",
       "      <td>0.210</td>\n",
       "    </tr>\n",
       "    <tr>\n",
       "      <th>3</th>\n",
       "      <td>0.440</td>\n",
       "      <td>0.365</td>\n",
       "      <td>0.125</td>\n",
       "      <td>0.5160</td>\n",
       "      <td>0.2155</td>\n",
       "      <td>0.1140</td>\n",
       "      <td>0.155</td>\n",
       "    </tr>\n",
       "    <tr>\n",
       "      <th>4</th>\n",
       "      <td>0.330</td>\n",
       "      <td>0.255</td>\n",
       "      <td>0.080</td>\n",
       "      <td>0.2050</td>\n",
       "      <td>0.0895</td>\n",
       "      <td>0.0395</td>\n",
       "      <td>0.055</td>\n",
       "    </tr>\n",
       "  </tbody>\n",
       "</table>\n",
       "</div>"
      ],
      "text/plain": [
       "   Length  Diameter  Height  Whole_weight  Shucked_weight  Viscera_weight  \\\n",
       "0   0.455     0.365   0.095        0.5140          0.2245          0.1010   \n",
       "1   0.350     0.265   0.090        0.2255          0.0995          0.0485   \n",
       "2   0.530     0.420   0.135        0.6770          0.2565          0.1415   \n",
       "3   0.440     0.365   0.125        0.5160          0.2155          0.1140   \n",
       "4   0.330     0.255   0.080        0.2050          0.0895          0.0395   \n",
       "\n",
       "   Shell_weight  \n",
       "0         0.150  \n",
       "1         0.070  \n",
       "2         0.210  \n",
       "3         0.155  \n",
       "4         0.055  "
      ]
     },
     "execution_count": 66,
     "metadata": {},
     "output_type": "execute_result"
    }
   ],
   "source": [
    "X = dados[feature_names]\n",
    "X.head()"
   ]
  },
  {
   "cell_type": "code",
   "execution_count": 67,
   "metadata": {},
   "outputs": [
    {
     "name": "stdout",
     "output_type": "stream",
     "text": [
      "Total de atributos preditivos até aqui:  7\n"
     ]
    }
   ],
   "source": [
    "print(\"Total de atributos preditivos até aqui: \", np.size(feature_names))"
   ]
  },
  {
   "cell_type": "markdown",
   "metadata": {},
   "source": [
    "Pré-processamento dos dados categórico..."
   ]
  },
  {
   "cell_type": "code",
   "execution_count": 68,
   "metadata": {},
   "outputs": [
    {
     "name": "stdout",
     "output_type": "stream",
     "text": [
      "Classes aprendidas:  ['F' 'I' 'M']\n",
      "Dados: \n",
      "[[0 0 1]\n",
      " [0 0 1]\n",
      " [1 0 0]\n",
      " ...\n",
      " [0 0 1]\n",
      " [1 0 0]\n",
      " [0 0 1]]\n",
      "Total de atributos preditivos até aqui:  10\n"
     ]
    }
   ],
   "source": [
    "from sklearn.preprocessing import LabelBinarizer\n",
    "lb_sex = LabelBinarizer()\n",
    "sex = lb_sex.fit_transform(dados['Sex'].values)\n",
    "print(\"Classes aprendidas: \",lb_sex.classes_)\n",
    "print(\"Dados: \")\n",
    "print(sex)\n",
    "X = np.c_[X, sex ]\n",
    "X\n",
    "feature_names = np.append(feature_names,lb_sex.classes_)\n",
    "feature_names\n",
    "print(\"Total de atributos preditivos até aqui: \", np.size(feature_names))\n"
   ]
  },
  {
   "cell_type": "markdown",
   "metadata": {},
   "source": [
    "#### Pré-processamento da coluna alvo"
   ]
  },
  {
   "cell_type": "markdown",
   "metadata": {},
   "source": [
    "Apenas para atributos maiores ou iguais a 10 anos"
   ]
  },
  {
   "cell_type": "code",
   "execution_count": 95,
   "metadata": {},
   "outputs": [
    {
     "data": {
      "text/plain": [
       "0    15\n",
       "1     7\n",
       "2     9\n",
       "3    10\n",
       "4     7\n",
       "5     8\n",
       "6    20\n",
       "7    16\n",
       "8     9\n",
       "9    19\n",
       "Name: Class_number_of_rings, dtype: int64"
      ]
     },
     "execution_count": 95,
     "metadata": {},
     "output_type": "execute_result"
    }
   ],
   "source": [
    "col_alvo.head(10)"
   ]
  },
  {
   "cell_type": "code",
   "execution_count": 98,
   "metadata": {},
   "outputs": [
    {
     "data": {
      "text/html": [
       "<div>\n",
       "<style scoped>\n",
       "    .dataframe tbody tr th:only-of-type {\n",
       "        vertical-align: middle;\n",
       "    }\n",
       "\n",
       "    .dataframe tbody tr th {\n",
       "        vertical-align: top;\n",
       "    }\n",
       "\n",
       "    .dataframe thead th {\n",
       "        text-align: right;\n",
       "    }\n",
       "</style>\n",
       "<table border=\"1\" class=\"dataframe\">\n",
       "  <thead>\n",
       "    <tr style=\"text-align: right;\">\n",
       "      <th></th>\n",
       "      <th>Class_number_of_rings</th>\n",
       "    </tr>\n",
       "  </thead>\n",
       "  <tbody>\n",
       "    <tr>\n",
       "      <th>0</th>\n",
       "      <td>True</td>\n",
       "    </tr>\n",
       "    <tr>\n",
       "      <th>1</th>\n",
       "      <td>False</td>\n",
       "    </tr>\n",
       "    <tr>\n",
       "      <th>2</th>\n",
       "      <td>False</td>\n",
       "    </tr>\n",
       "    <tr>\n",
       "      <th>3</th>\n",
       "      <td>True</td>\n",
       "    </tr>\n",
       "    <tr>\n",
       "      <th>4</th>\n",
       "      <td>False</td>\n",
       "    </tr>\n",
       "    <tr>\n",
       "      <th>5</th>\n",
       "      <td>False</td>\n",
       "    </tr>\n",
       "    <tr>\n",
       "      <th>6</th>\n",
       "      <td>True</td>\n",
       "    </tr>\n",
       "    <tr>\n",
       "      <th>7</th>\n",
       "      <td>True</td>\n",
       "    </tr>\n",
       "    <tr>\n",
       "      <th>8</th>\n",
       "      <td>False</td>\n",
       "    </tr>\n",
       "    <tr>\n",
       "      <th>9</th>\n",
       "      <td>True</td>\n",
       "    </tr>\n",
       "  </tbody>\n",
       "</table>\n",
       "</div>"
      ],
      "text/plain": [
       "   Class_number_of_rings\n",
       "0                   True\n",
       "1                  False\n",
       "2                  False\n",
       "3                   True\n",
       "4                  False\n",
       "5                  False\n",
       "6                   True\n",
       "7                   True\n",
       "8                  False\n",
       "9                   True"
      ]
     },
     "execution_count": 98,
     "metadata": {},
     "output_type": "execute_result"
    }
   ],
   "source": [
    "y = dados[['Class_number_of_rings']] >= 10\n",
    "y.head(10)\n"
   ]
  },
  {
   "cell_type": "markdown",
   "metadata": {},
   "source": [
    "#### Resultado do pré processamento"
   ]
  },
  {
   "cell_type": "code",
   "execution_count": 100,
   "metadata": {},
   "outputs": [
    {
     "data": {
      "text/plain": [
       "(4177, 10)"
      ]
     },
     "execution_count": 100,
     "metadata": {},
     "output_type": "execute_result"
    }
   ],
   "source": [
    "X.shape"
   ]
  },
  {
   "cell_type": "code",
   "execution_count": 101,
   "metadata": {},
   "outputs": [
    {
     "data": {
      "text/plain": [
       "(4177, 1)"
      ]
     },
     "execution_count": 101,
     "metadata": {},
     "output_type": "execute_result"
    }
   ],
   "source": [
    "y.shape"
   ]
  },
  {
   "cell_type": "code",
   "execution_count": 102,
   "metadata": {},
   "outputs": [
    {
     "data": {
      "text/plain": [
       "41770"
      ]
     },
     "execution_count": 102,
     "metadata": {},
     "output_type": "execute_result"
    }
   ],
   "source": [
    "X.size"
   ]
  },
  {
   "cell_type": "code",
   "execution_count": 103,
   "metadata": {},
   "outputs": [
    {
     "data": {
      "text/plain": [
       "4177"
      ]
     },
     "execution_count": 103,
     "metadata": {},
     "output_type": "execute_result"
    }
   ],
   "source": [
    "y.size"
   ]
  },
  {
   "cell_type": "code",
   "execution_count": 104,
   "metadata": {},
   "outputs": [
    {
     "data": {
      "text/plain": [
       "array([[0.455, 0.365, 0.095, ..., 0.   , 0.   , 1.   ],\n",
       "       [0.35 , 0.265, 0.09 , ..., 0.   , 0.   , 1.   ],\n",
       "       [0.53 , 0.42 , 0.135, ..., 1.   , 0.   , 0.   ],\n",
       "       ...,\n",
       "       [0.6  , 0.475, 0.205, ..., 0.   , 0.   , 1.   ],\n",
       "       [0.625, 0.485, 0.15 , ..., 1.   , 0.   , 0.   ],\n",
       "       [0.71 , 0.555, 0.195, ..., 0.   , 0.   , 1.   ]])"
      ]
     },
     "execution_count": 104,
     "metadata": {},
     "output_type": "execute_result"
    }
   ],
   "source": [
    "X"
   ]
  },
  {
   "cell_type": "code",
   "execution_count": 105,
   "metadata": {},
   "outputs": [
    {
     "data": {
      "text/html": [
       "<div>\n",
       "<style scoped>\n",
       "    .dataframe tbody tr th:only-of-type {\n",
       "        vertical-align: middle;\n",
       "    }\n",
       "\n",
       "    .dataframe tbody tr th {\n",
       "        vertical-align: top;\n",
       "    }\n",
       "\n",
       "    .dataframe thead th {\n",
       "        text-align: right;\n",
       "    }\n",
       "</style>\n",
       "<table border=\"1\" class=\"dataframe\">\n",
       "  <thead>\n",
       "    <tr style=\"text-align: right;\">\n",
       "      <th></th>\n",
       "      <th>Class_number_of_rings</th>\n",
       "    </tr>\n",
       "  </thead>\n",
       "  <tbody>\n",
       "    <tr>\n",
       "      <th>0</th>\n",
       "      <td>True</td>\n",
       "    </tr>\n",
       "    <tr>\n",
       "      <th>1</th>\n",
       "      <td>False</td>\n",
       "    </tr>\n",
       "    <tr>\n",
       "      <th>2</th>\n",
       "      <td>False</td>\n",
       "    </tr>\n",
       "    <tr>\n",
       "      <th>3</th>\n",
       "      <td>True</td>\n",
       "    </tr>\n",
       "    <tr>\n",
       "      <th>4</th>\n",
       "      <td>False</td>\n",
       "    </tr>\n",
       "    <tr>\n",
       "      <th>...</th>\n",
       "      <td>...</td>\n",
       "    </tr>\n",
       "    <tr>\n",
       "      <th>4172</th>\n",
       "      <td>True</td>\n",
       "    </tr>\n",
       "    <tr>\n",
       "      <th>4173</th>\n",
       "      <td>True</td>\n",
       "    </tr>\n",
       "    <tr>\n",
       "      <th>4174</th>\n",
       "      <td>False</td>\n",
       "    </tr>\n",
       "    <tr>\n",
       "      <th>4175</th>\n",
       "      <td>True</td>\n",
       "    </tr>\n",
       "    <tr>\n",
       "      <th>4176</th>\n",
       "      <td>True</td>\n",
       "    </tr>\n",
       "  </tbody>\n",
       "</table>\n",
       "<p>4177 rows × 1 columns</p>\n",
       "</div>"
      ],
      "text/plain": [
       "      Class_number_of_rings\n",
       "0                      True\n",
       "1                     False\n",
       "2                     False\n",
       "3                      True\n",
       "4                     False\n",
       "...                     ...\n",
       "4172                   True\n",
       "4173                   True\n",
       "4174                  False\n",
       "4175                   True\n",
       "4176                   True\n",
       "\n",
       "[4177 rows x 1 columns]"
      ]
     },
     "execution_count": 105,
     "metadata": {},
     "output_type": "execute_result"
    }
   ],
   "source": [
    "y"
   ]
  },
  {
   "cell_type": "code",
   "execution_count": null,
   "metadata": {},
   "outputs": [],
   "source": []
  },
  {
   "cell_type": "markdown",
   "metadata": {},
   "source": [
    "#### <font color='red'>*Definição da arquitetura das redes neurais artificiais a serem desenvolvidas*</font>"
   ]
  },
  {
   "cell_type": "code",
   "execution_count": null,
   "metadata": {},
   "outputs": [],
   "source": []
  },
  {
   "cell_type": "markdown",
   "metadata": {},
   "source": [
    "#### <font color='red'>*Treinamento de várias redes neurais artificiais, empregando todas as técnicas vistas durante o semestre*</font>"
   ]
  },
  {
   "cell_type": "markdown",
   "metadata": {},
   "source": [
    "#### <font color='red'>*Avaliação do desempenho de cada rede neural artificial*</font>"
   ]
  },
  {
   "cell_type": "markdown",
   "metadata": {},
   "source": [
    "#### <font color='red'>*Escolha da rede neural artificial final justificada e embasada no processo de avaliação de desempenho*</font>"
   ]
  },
  {
   "cell_type": "code",
   "execution_count": null,
   "metadata": {},
   "outputs": [],
   "source": []
  }
 ],
 "metadata": {
  "kernelspec": {
   "display_name": "Python 3",
   "language": "python",
   "name": "python3"
  },
  "language_info": {
   "codemirror_mode": {
    "name": "ipython",
    "version": 3
   },
   "file_extension": ".py",
   "mimetype": "text/x-python",
   "name": "python",
   "nbconvert_exporter": "python",
   "pygments_lexer": "ipython3",
   "version": "3.8.5"
  }
 },
 "nbformat": 4,
 "nbformat_minor": 2
}
