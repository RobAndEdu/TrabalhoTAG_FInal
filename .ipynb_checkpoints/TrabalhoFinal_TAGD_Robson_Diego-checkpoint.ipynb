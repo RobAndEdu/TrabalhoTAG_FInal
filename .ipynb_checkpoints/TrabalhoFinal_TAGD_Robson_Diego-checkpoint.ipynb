{
 "cells": [
  {
   "cell_type": "markdown",
   "metadata": {},
   "source": [
    "# <font color='blue'>Trabalho Final de Tópicos Avançados em Gestão de Dados</font>\n",
    "##### Turma 168 - 2020/2\n",
    "## *Prof. Dr. Rodrigo Espindola*"
   ]
  },
  {
   "cell_type": "markdown",
   "metadata": {},
   "source": [
    "## Alunos\n",
    "#### <font color='orange'>*Robson Andrei dos Santos - 13205021-2 robson.andrei@edu.pucrs.br*</font>\n",
    "#### <font color='orange'>*Diego Cansi Matté - 08104810-0 diego.matte@edu.pucrs.br* </font>"
   ]
  },
  {
   "cell_type": "markdown",
   "metadata": {},
   "source": [
    "O trabalho final desta disciplina consiste na construção de um modelo preditivo de classificação através do emprego das técnicas de aprendizagem supervisionada usando redes neurais artificiais vistas em aula. As técnicas a serem empregadas precisam ser obrigatoriamente aquelas estudadas em aula nesta disciplina, nesta turma, neste semestre. O trabalho deve ser realizado em duplas. Para isto, cada dupla de alunos(as) deve:"
   ]
  },
  {
   "cell_type": "markdown",
   "metadata": {},
   "source": [
    "   ###### Escolher uma base de dados disponível publicamente\n",
    "   https://archive.ics.uci.edu/ml/datasets/abalone\n",
    "   \n",
    "   https://datahub.io/machine-learning/abalone#resource-abalone_zip\n",
    "   \n",
    "   Objetivo desta base: prever a idade do abalone a partir de medições físicas. A idade do abalone é determinada cortando a concha através do cone, colorindo-a e contando o número de anéis através de um microscópio - uma tarefa tediosa e demorada. Outras medidas, mais fáceis de obter, são utilizadas para prever a idade.\n",
    "\n",
    "Dos dados originais, os exemplos com valores ausentes foram removidos (a maioria tendo o valor predito ausente) e os intervalos dos valores contínuos foram escalados para uso com uma ANN (dividindo por 200).\n",
    "\n",
    "\n",
    "Informações sobre o atributo:\n",
    "\n",
    "É fornecido o nome do atributo, o tipo de atributo, a unidade de medida e uma breve descrição. O número de toques é o valor a prever: seja como um valor contínuo ou como um problema de classificação.\n",
    "\n",
    "\n",
    "\n",
    "Nome / Tipo de dados / Unidade de medida / Descrição\n",
    "-----------------------------\n",
    "Sexo / nominal / - / M, F e I (infantil)\n",
    "\n",
    "Comprimento / contínuo / mm / Medida de casca mais longa\n",
    "\n",
    "Diâmetro / contínua / mm / perpendicular ao comprimento\n",
    "\n",
    "Altura / contínua / mm / com carne na casca\n",
    "\n",
    "Peso inteiro / contínuo / gramas / abalone inteiro\n",
    "\n",
    "Peso descascado / contínuo / gramas /\n",
    "\n",
    "Peso das vísceras da carne / contínuo / gramas / peso intestinal (após sangramento)\n",
    "\n",
    "Peso da casca / contínuo / gramas / após secagem\n",
    "\n",
    "Toques / inteiro / +1,5 fornece a idade em anos\n"
   ]
  },
  {
   "cell_type": "markdown",
   "metadata": {},
   "source": [
    "\n",
    "<img alt=\"H. asinina, do Indo-Pacífico, é considerada a espécie-tipo do gênero Haliotis.[1][2]\" src=\"//upload.wikimedia.org/wikipedia/commons/thumb/d/d6/Haliotis_asinina_01.JPG/280px-Haliotis_asinina_01.JPG\" decoding=\"async\" width=\"280\" height=\"243\" srcset=\"//upload.wikimedia.org/wikipedia/commons/thumb/d/d6/Haliotis_asinina_01.JPG/420px-Haliotis_asinina_01.JPG 1.5x, //upload.wikimedia.org/wikipedia/commons/thumb/d/d6/Haliotis_asinina_01.JPG/560px-Haliotis_asinina_01.JPG 2x\" data-file-width=\"6000\" data-file-height=\"5216\">\n",
    "\n",
    "<div id=\"mwe_player_0\" class=\"PopUpMediaTransform\" style=\"width:220px;\" videopayload=\"<div class=&quot;mediaContainer&quot; style=&quot;width:640px&quot;><video id=&quot;mwe_player_1&quot; poster=&quot;//upload.wikimedia.org/wikipedia/commons/thumb/7/70/Haliotis_tuberculata.ogv/640px--Haliotis_tuberculata.ogv.jpg&quot; controls=&quot;&quot; preload=&quot;none&quot; autoplay=&quot;&quot; style=&quot;width:640px;height:480px&quot; class=&quot;kskin&quot; data-durationhint=&quot;10.046511627907&quot; data-startoffset=&quot;0&quot; data-mwtitle=&quot;Haliotis_tuberculata.ogv&quot; data-mwprovider=&quot;wikimediacommons&quot;><source src=&quot;//upload.wikimedia.org/wikipedia/commons/transcoded/7/70/Haliotis_tuberculata.ogv/Haliotis_tuberculata.ogv.480p.webm&quot; type=&quot;video/webm; codecs=&amp;quot;vp8, vorbis&amp;quot;&quot; data-title=&quot;WebM SD (480P)&quot; data-shorttitle=&quot;WebM 480P&quot; data-transcodekey=&quot;480p.webm&quot; data-width=&quot;640&quot; data-height=&quot;480&quot; data-bandwidth=&quot;1090848&quot; data-framerate=&quot;25.083333333333&quot;/><source src=&quot;//upload.wikimedia.org/wikipedia/commons/transcoded/7/70/Haliotis_tuberculata.ogv/Haliotis_tuberculata.ogv.480p.vp9.webm&quot; type=&quot;video/webm; codecs=&amp;quot;vp9, opus&amp;quot;&quot; data-title=&quot;VP9 SD (480P)&quot; data-shorttitle=&quot;VP9 480P&quot; data-transcodekey=&quot;480p.vp9.webm&quot; data-width=&quot;640&quot; data-height=&quot;480&quot; data-bandwidth=&quot;1156432&quot; data-framerate=&quot;25.083333333333&quot;/><source src=&quot;//upload.wikimedia.org/wikipedia/commons/7/70/Haliotis_tuberculata.ogv&quot; type=&quot;video/ogg; codecs=&amp;quot;theora, vorbis&amp;quot;&quot; data-title=&quot;Ficheiro Ogg original, 640 × 480 (1,89 Mbps)&quot; data-shorttitle=&quot;Fonte Ogg&quot; data-width=&quot;640&quot; data-height=&quot;480&quot; data-bandwidth=&quot;1887186&quot; data-framerate=&quot;25.083333333333&quot;/><source src=&quot;//upload.wikimedia.org/wikipedia/commons/transcoded/7/70/Haliotis_tuberculata.ogv/Haliotis_tuberculata.ogv.120p.vp9.webm&quot; type=&quot;video/webm; codecs=&amp;quot;vp9, opus&amp;quot;&quot; data-title=&quot;VP9 da menor largura de banda(120P)&quot; data-shorttitle=&quot;VP9 120P&quot; data-transcodekey=&quot;120p.vp9.webm&quot; data-width=&quot;160&quot; data-height=&quot;120&quot; data-bandwidth=&quot;195208&quot; data-framerate=&quot;25.083333333333&quot;/><source src=&quot;//upload.wikimedia.org/wikipedia/commons/transcoded/7/70/Haliotis_tuberculata.ogv/Haliotis_tuberculata.ogv.160p.webm&quot; type=&quot;video/webm; codecs=&amp;quot;vp8, vorbis&amp;quot;&quot; data-title=&quot;WebM de baixa largura de banda (160P)&quot; data-shorttitle=&quot;WebM 160P&quot; data-transcodekey=&quot;160p.webm&quot; data-width=&quot;214&quot; data-height=&quot;160&quot; data-bandwidth=&quot;221552&quot; data-framerate=&quot;25.083333333333&quot;/><source src=&quot;//upload.wikimedia.org/wikipedia/commons/transcoded/7/70/Haliotis_tuberculata.ogv/Haliotis_tuberculata.ogv.180p.vp9.webm&quot; type=&quot;video/webm; codecs=&amp;quot;vp9, opus&amp;quot;&quot; data-title=&quot;VP9 de baixa largura de banda (180P)&quot; data-shorttitle=&quot;VP9 180P&quot; data-transcodekey=&quot;180p.vp9.webm&quot; data-width=&quot;240&quot; data-height=&quot;180&quot; data-bandwidth=&quot;281640&quot; data-framerate=&quot;25.083333333333&quot;/><source src=&quot;//upload.wikimedia.org/wikipedia/commons/transcoded/7/70/Haliotis_tuberculata.ogv/Haliotis_tuberculata.ogv.240p.webm&quot; type=&quot;video/webm; codecs=&amp;quot;vp8, vorbis&amp;quot;&quot; data-title=&quot;WebM pequeno (240P)&quot; data-shorttitle=&quot;WebM 240P&quot; data-transcodekey=&quot;240p.webm&quot; data-width=&quot;320&quot; data-height=&quot;240&quot; data-bandwidth=&quot;329096&quot; data-framerate=&quot;25.083333333333&quot;/><source src=&quot;//upload.wikimedia.org/wikipedia/commons/transcoded/7/70/Haliotis_tuberculata.ogv/Haliotis_tuberculata.ogv.240p.vp9.webm&quot; type=&quot;video/webm; codecs=&amp;quot;vp9, opus&amp;quot;&quot; data-title=&quot;VP9 pequeno (240P)&quot; data-shorttitle=&quot;VP9 240P&quot; data-transcodekey=&quot;240p.vp9.webm&quot; data-width=&quot;320&quot; data-height=&quot;240&quot; data-bandwidth=&quot;389560&quot; data-framerate=&quot;25.083333333333&quot;/><source src=&quot;//upload.wikimedia.org/wikipedia/commons/transcoded/7/70/Haliotis_tuberculata.ogv/Haliotis_tuberculata.ogv.360p.webm&quot; type=&quot;video/webm; codecs=&amp;quot;vp8, vorbis&amp;quot;&quot; data-title=&quot;WebM para web streaming (360P)&quot; data-shorttitle=&quot;WebM 360P&quot; data-transcodekey=&quot;360p.webm&quot; data-width=&quot;480&quot; data-height=&quot;360&quot; data-bandwidth=&quot;578000&quot; data-framerate=&quot;25.083333333333&quot;/><source src=&quot;//upload.wikimedia.org/wikipedia/commons/transcoded/7/70/Haliotis_tuberculata.ogv/Haliotis_tuberculata.ogv.360p.vp9.webm&quot; type=&quot;video/webm; codecs=&amp;quot;vp9, opus&amp;quot;&quot; data-title=&quot;VP9 (360P)&quot; data-shorttitle=&quot;VP9 360P&quot; data-transcodekey=&quot;360p.vp9.webm&quot; data-width=&quot;480&quot; data-height=&quot;360&quot; data-bandwidth=&quot;633544&quot; data-framerate=&quot;25.083333333333&quot;/></video></div>\"><img alt=\"Ficheiro:Haliotis tuberculata.ogv\" style=\"width:220px;height:165px\" src=\"//upload.wikimedia.org/wikipedia/commons/thumb/7/70/Haliotis_tuberculata.ogv/220px--Haliotis_tuberculata.ogv.jpg\"><a href=\"//upload.wikimedia.org/wikipedia/commons/7/70/Haliotis_tuberculata.ogv\" title=\"Reproduzir conteúdo\" target=\"new\"><span class=\"play-btn-large\"><span class=\"mw-tmh-playtext\">Reproduzir conteúdo</span></span></a></div>\n"
   ]
  },
  {
   "cell_type": "markdown",
   "metadata": {},
   "source": [
    "#### *Coluna alvo do modelo*\n",
    "<font color='blue'>Coluna alvo escolhida foi </font>\n",
    "<font color='red'>*Class_number_of_rings*</font>\n",
    "<font color='blue'> - Esta coluna contém o resultado do cálculo acrecido de 1,5 para indicar a idade do Abalone.</font>\n"
   ]
  },
  {
   "cell_type": "code",
   "execution_count": null,
   "metadata": {},
   "outputs": [],
   "source": [
    "#### *Objetivo do modelo preditivo e justificativa*\n",
    "<font color='blue'>O objetivo do modelo é predizer a idade do Abalone, por conta das características apresentadas como; peso, tamanho, etc, pretendemos apresentar um modelo que seja capaz de predizer a idade usando um modelo de classificação dividindo a idades em dois grupos, Abalones com idade <font color='red'>menores de dez anos </font>de idade e <font color='red'>maiores de dez anos</font>, lembrando que a idade do abalone pode variar de um a vinte anos.</font>\n",
    "<font color='red'>Justificamos</font> <font color='blue'>a escolha deste objetivo por conta que o Abalone é um molusco de alta procura, e que sustenta um mercado milionário, sua pesca de maneira descontrolada e ilegal trás sérios  prejuízos a sua proliferação, e a sustentação de pescadores credenciados que tem licença para a pesca,  controladas por meio de cotas sustentáveis, como o processo para determinar a idade do molusco é trabalhosa e demorada, envolvendo uma análise física, sendo necessária o corte da concha, e a coloração dos seus anéis por meio do uso de um processo microscópico, justificamos o uso do modelo para a  predição da sua idade de maneira  mais fácil.</font>\n",
    "\n",
    "\n"
   ]
  },
  {
   "cell_type": "markdown",
   "metadata": {},
   "source": [
    "#### <font color='red'>*Análise exploratória dos dados*</font>"
   ]
  },
  {
   "cell_type": "code",
   "execution_count": 50,
   "metadata": {
    "scrolled": true
   },
   "outputs": [
    {
     "data": {
      "text/html": [
       "<div>\n",
       "<style scoped>\n",
       "    .dataframe tbody tr th:only-of-type {\n",
       "        vertical-align: middle;\n",
       "    }\n",
       "\n",
       "    .dataframe tbody tr th {\n",
       "        vertical-align: top;\n",
       "    }\n",
       "\n",
       "    .dataframe thead th {\n",
       "        text-align: right;\n",
       "    }\n",
       "</style>\n",
       "<table border=\"1\" class=\"dataframe\">\n",
       "  <thead>\n",
       "    <tr style=\"text-align: right;\">\n",
       "      <th></th>\n",
       "      <th>Sex</th>\n",
       "      <th>Length</th>\n",
       "      <th>Diameter</th>\n",
       "      <th>Height</th>\n",
       "      <th>Whole_weight</th>\n",
       "      <th>Shucked_weight</th>\n",
       "      <th>Viscera_weight</th>\n",
       "      <th>Shell_weight</th>\n",
       "      <th>Class_number_of_rings</th>\n",
       "    </tr>\n",
       "  </thead>\n",
       "  <tbody>\n",
       "    <tr>\n",
       "      <th>0</th>\n",
       "      <td>M</td>\n",
       "      <td>0.455</td>\n",
       "      <td>0.365</td>\n",
       "      <td>0.095</td>\n",
       "      <td>0.5140</td>\n",
       "      <td>0.2245</td>\n",
       "      <td>0.1010</td>\n",
       "      <td>0.150</td>\n",
       "      <td>15</td>\n",
       "    </tr>\n",
       "    <tr>\n",
       "      <th>1</th>\n",
       "      <td>M</td>\n",
       "      <td>0.350</td>\n",
       "      <td>0.265</td>\n",
       "      <td>0.090</td>\n",
       "      <td>0.2255</td>\n",
       "      <td>0.0995</td>\n",
       "      <td>0.0485</td>\n",
       "      <td>0.070</td>\n",
       "      <td>7</td>\n",
       "    </tr>\n",
       "    <tr>\n",
       "      <th>2</th>\n",
       "      <td>F</td>\n",
       "      <td>0.530</td>\n",
       "      <td>0.420</td>\n",
       "      <td>0.135</td>\n",
       "      <td>0.6770</td>\n",
       "      <td>0.2565</td>\n",
       "      <td>0.1415</td>\n",
       "      <td>0.210</td>\n",
       "      <td>9</td>\n",
       "    </tr>\n",
       "    <tr>\n",
       "      <th>3</th>\n",
       "      <td>M</td>\n",
       "      <td>0.440</td>\n",
       "      <td>0.365</td>\n",
       "      <td>0.125</td>\n",
       "      <td>0.5160</td>\n",
       "      <td>0.2155</td>\n",
       "      <td>0.1140</td>\n",
       "      <td>0.155</td>\n",
       "      <td>10</td>\n",
       "    </tr>\n",
       "    <tr>\n",
       "      <th>4</th>\n",
       "      <td>I</td>\n",
       "      <td>0.330</td>\n",
       "      <td>0.255</td>\n",
       "      <td>0.080</td>\n",
       "      <td>0.2050</td>\n",
       "      <td>0.0895</td>\n",
       "      <td>0.0395</td>\n",
       "      <td>0.055</td>\n",
       "      <td>7</td>\n",
       "    </tr>\n",
       "  </tbody>\n",
       "</table>\n",
       "</div>"
      ],
      "text/plain": [
       "  Sex  Length  Diameter  Height  Whole_weight  Shucked_weight  Viscera_weight  \\\n",
       "0   M   0.455     0.365   0.095        0.5140          0.2245          0.1010   \n",
       "1   M   0.350     0.265   0.090        0.2255          0.0995          0.0485   \n",
       "2   F   0.530     0.420   0.135        0.6770          0.2565          0.1415   \n",
       "3   M   0.440     0.365   0.125        0.5160          0.2155          0.1140   \n",
       "4   I   0.330     0.255   0.080        0.2050          0.0895          0.0395   \n",
       "\n",
       "   Shell_weight  Class_number_of_rings  \n",
       "0         0.150                     15  \n",
       "1         0.070                      7  \n",
       "2         0.210                      9  \n",
       "3         0.155                     10  \n",
       "4         0.055                      7  "
      ]
     },
     "execution_count": 50,
     "metadata": {},
     "output_type": "execute_result"
    }
   ],
   "source": [
    "import pandas as pd\n",
    "import numpy as np\n",
    "dados = pd.read_csv(\"Abalone/abalone_zip/data/abalone_csv.csv\");\n",
    "dados.head()"
   ]
  },
  {
   "cell_type": "code",
   "execution_count": 51,
   "metadata": {},
   "outputs": [
    {
     "name": "stdout",
     "output_type": "stream",
     "text": [
      "<class 'pandas.core.frame.DataFrame'>\n",
      "RangeIndex: 4177 entries, 0 to 4176\n",
      "Data columns (total 9 columns):\n",
      " #   Column                 Non-Null Count  Dtype  \n",
      "---  ------                 --------------  -----  \n",
      " 0   Sex                    4177 non-null   object \n",
      " 1   Length                 4177 non-null   float64\n",
      " 2   Diameter               4177 non-null   float64\n",
      " 3   Height                 4177 non-null   float64\n",
      " 4   Whole_weight           4177 non-null   float64\n",
      " 5   Shucked_weight         4177 non-null   float64\n",
      " 6   Viscera_weight         4177 non-null   float64\n",
      " 7   Shell_weight           4177 non-null   float64\n",
      " 8   Class_number_of_rings  4177 non-null   int64  \n",
      "dtypes: float64(7), int64(1), object(1)\n",
      "memory usage: 293.8+ KB\n"
     ]
    }
   ],
   "source": [
    "dados.info()"
   ]
  },
  {
   "cell_type": "code",
   "execution_count": 52,
   "metadata": {},
   "outputs": [
    {
     "data": {
      "text/plain": [
       "(4177, 9)"
      ]
     },
     "execution_count": 52,
     "metadata": {},
     "output_type": "execute_result"
    }
   ],
   "source": [
    "dados.shape"
   ]
  },
  {
   "cell_type": "code",
   "execution_count": 53,
   "metadata": {},
   "outputs": [
    {
     "data": {
      "text/plain": [
       "0    15\n",
       "1     7\n",
       "2     9\n",
       "3    10\n",
       "4     7\n",
       "5     8\n",
       "6    20\n",
       "7    16\n",
       "8     9\n",
       "9    19\n",
       "Name: Class_number_of_rings, dtype: int64"
      ]
     },
     "execution_count": 53,
     "metadata": {},
     "output_type": "execute_result"
    }
   ],
   "source": [
    "dados['Class_number_of_rings'].head(10)"
   ]
  },
  {
   "cell_type": "markdown",
   "metadata": {},
   "source": [
    "##### Escolha da coluna alvo"
   ]
  },
  {
   "cell_type": "code",
   "execution_count": 54,
   "metadata": {},
   "outputs": [
    {
     "data": {
      "text/plain": [
       "0       15\n",
       "1        7\n",
       "2        9\n",
       "3       10\n",
       "4        7\n",
       "        ..\n",
       "4172    11\n",
       "4173    10\n",
       "4174     9\n",
       "4175    10\n",
       "4176    12\n",
       "Name: Class_number_of_rings, Length: 4177, dtype: int64"
      ]
     },
     "execution_count": 54,
     "metadata": {},
     "output_type": "execute_result"
    }
   ],
   "source": [
    "col_alvo = dados['Class_number_of_rings'];\n",
    "col_alvo"
   ]
  },
  {
   "cell_type": "markdown",
   "metadata": {},
   "source": [
    "*Dados faltantes*"
   ]
  },
  {
   "cell_type": "code",
   "execution_count": 55,
   "metadata": {},
   "outputs": [
    {
     "data": {
      "text/plain": [
       "Sex                      0\n",
       "Length                   0\n",
       "Diameter                 0\n",
       "Height                   0\n",
       "Whole_weight             0\n",
       "Shucked_weight           0\n",
       "Viscera_weight           0\n",
       "Shell_weight             0\n",
       "Class_number_of_rings    0\n",
       "dtype: int64"
      ]
     },
     "execution_count": 55,
     "metadata": {},
     "output_type": "execute_result"
    }
   ],
   "source": [
    "faltantes = dados.isnull().sum()#Soma dos dados faltantes\n",
    "faltantes\n",
    "# Soma das linhas onde tem algum dado faltante de acordo com a coluna\n",
    "# Excluindo colunas desnecessárias "
   ]
  },
  {
   "cell_type": "markdown",
   "metadata": {},
   "source": [
    "#### <font color='red'>*Pré-processamento dos dados*</font>"
   ]
  },
  {
   "cell_type": "markdown",
   "metadata": {},
   "source": [
    "Como nossos atributos numéricos já se encontram em medidas padronizadas, milímetros e gramas, o pré-processamento dos dados fica ainda mais simples.\n"
   ]
  },
  {
   "cell_type": "code",
   "execution_count": 56,
   "metadata": {},
   "outputs": [
    {
     "data": {
      "text/plain": [
       "['Length',\n",
       " 'Diameter',\n",
       " 'Height',\n",
       " 'Whole_weight',\n",
       " 'Shucked_weight',\n",
       " 'Viscera_weight',\n",
       " 'Shell_weight']"
      ]
     },
     "execution_count": 56,
     "metadata": {},
     "output_type": "execute_result"
    }
   ],
   "source": [
    "feature_names = ['Length', \n",
    "                 'Diameter',\n",
    "                 'Height',\n",
    "                 'Whole_weight',\n",
    "                 'Shucked_weight',\n",
    "                 'Viscera_weight',\n",
    "                 'Shell_weight']\n",
    "feature_names"
   ]
  },
  {
   "cell_type": "code",
   "execution_count": 57,
   "metadata": {},
   "outputs": [
    {
     "data": {
      "text/html": [
       "<div>\n",
       "<style scoped>\n",
       "    .dataframe tbody tr th:only-of-type {\n",
       "        vertical-align: middle;\n",
       "    }\n",
       "\n",
       "    .dataframe tbody tr th {\n",
       "        vertical-align: top;\n",
       "    }\n",
       "\n",
       "    .dataframe thead th {\n",
       "        text-align: right;\n",
       "    }\n",
       "</style>\n",
       "<table border=\"1\" class=\"dataframe\">\n",
       "  <thead>\n",
       "    <tr style=\"text-align: right;\">\n",
       "      <th></th>\n",
       "      <th>Length</th>\n",
       "      <th>Diameter</th>\n",
       "      <th>Height</th>\n",
       "      <th>Whole_weight</th>\n",
       "      <th>Shucked_weight</th>\n",
       "      <th>Viscera_weight</th>\n",
       "      <th>Shell_weight</th>\n",
       "    </tr>\n",
       "  </thead>\n",
       "  <tbody>\n",
       "    <tr>\n",
       "      <th>0</th>\n",
       "      <td>0.455</td>\n",
       "      <td>0.365</td>\n",
       "      <td>0.095</td>\n",
       "      <td>0.5140</td>\n",
       "      <td>0.2245</td>\n",
       "      <td>0.1010</td>\n",
       "      <td>0.150</td>\n",
       "    </tr>\n",
       "    <tr>\n",
       "      <th>1</th>\n",
       "      <td>0.350</td>\n",
       "      <td>0.265</td>\n",
       "      <td>0.090</td>\n",
       "      <td>0.2255</td>\n",
       "      <td>0.0995</td>\n",
       "      <td>0.0485</td>\n",
       "      <td>0.070</td>\n",
       "    </tr>\n",
       "    <tr>\n",
       "      <th>2</th>\n",
       "      <td>0.530</td>\n",
       "      <td>0.420</td>\n",
       "      <td>0.135</td>\n",
       "      <td>0.6770</td>\n",
       "      <td>0.2565</td>\n",
       "      <td>0.1415</td>\n",
       "      <td>0.210</td>\n",
       "    </tr>\n",
       "    <tr>\n",
       "      <th>3</th>\n",
       "      <td>0.440</td>\n",
       "      <td>0.365</td>\n",
       "      <td>0.125</td>\n",
       "      <td>0.5160</td>\n",
       "      <td>0.2155</td>\n",
       "      <td>0.1140</td>\n",
       "      <td>0.155</td>\n",
       "    </tr>\n",
       "    <tr>\n",
       "      <th>4</th>\n",
       "      <td>0.330</td>\n",
       "      <td>0.255</td>\n",
       "      <td>0.080</td>\n",
       "      <td>0.2050</td>\n",
       "      <td>0.0895</td>\n",
       "      <td>0.0395</td>\n",
       "      <td>0.055</td>\n",
       "    </tr>\n",
       "  </tbody>\n",
       "</table>\n",
       "</div>"
      ],
      "text/plain": [
       "   Length  Diameter  Height  Whole_weight  Shucked_weight  Viscera_weight  \\\n",
       "0   0.455     0.365   0.095        0.5140          0.2245          0.1010   \n",
       "1   0.350     0.265   0.090        0.2255          0.0995          0.0485   \n",
       "2   0.530     0.420   0.135        0.6770          0.2565          0.1415   \n",
       "3   0.440     0.365   0.125        0.5160          0.2155          0.1140   \n",
       "4   0.330     0.255   0.080        0.2050          0.0895          0.0395   \n",
       "\n",
       "   Shell_weight  \n",
       "0         0.150  \n",
       "1         0.070  \n",
       "2         0.210  \n",
       "3         0.155  \n",
       "4         0.055  "
      ]
     },
     "execution_count": 57,
     "metadata": {},
     "output_type": "execute_result"
    }
   ],
   "source": [
    "X = dados[feature_names]\n",
    "X.head()"
   ]
  },
  {
   "cell_type": "code",
   "execution_count": 58,
   "metadata": {},
   "outputs": [
    {
     "name": "stdout",
     "output_type": "stream",
     "text": [
      "Total de atributos preditivos até aqui:  7\n"
     ]
    }
   ],
   "source": [
    "print(\"Total de atributos preditivos até aqui: \", np.size(feature_names))"
   ]
  },
  {
   "cell_type": "markdown",
   "metadata": {},
   "source": [
    "Pré-processamento dos dados categórico..."
   ]
  },
  {
   "cell_type": "code",
   "execution_count": 59,
   "metadata": {},
   "outputs": [
    {
     "name": "stdout",
     "output_type": "stream",
     "text": [
      "Classes aprendidas:  ['F' 'I' 'M']\n",
      "Dados: \n",
      "[[0 0 1]\n",
      " [0 0 1]\n",
      " [1 0 0]\n",
      " ...\n",
      " [0 0 1]\n",
      " [1 0 0]\n",
      " [0 0 1]]\n",
      "Total de atributos preditivos até aqui:  10\n"
     ]
    }
   ],
   "source": [
    "from sklearn.preprocessing import LabelBinarizer\n",
    "lb_sex = LabelBinarizer()\n",
    "sex = lb_sex.fit_transform(dados['Sex'].values)\n",
    "print(\"Classes aprendidas: \",lb_sex.classes_)\n",
    "print(\"Dados: \")\n",
    "print(sex)\n",
    "X = np.c_[X, sex ]\n",
    "X\n",
    "feature_names = np.append(feature_names,lb_sex.classes_)\n",
    "feature_names\n",
    "print(\"Total de atributos preditivos até aqui: \", np.size(feature_names))\n"
   ]
  },
  {
   "cell_type": "markdown",
   "metadata": {},
   "source": [
    "#### Pré-processamento da coluna alvo"
   ]
  },
  {
   "cell_type": "markdown",
   "metadata": {},
   "source": [
    "Apenas para atributos maiores ou iguais a 10 anos"
   ]
  },
  {
   "cell_type": "code",
   "execution_count": 60,
   "metadata": {},
   "outputs": [
    {
     "data": {
      "text/plain": [
       "0    15\n",
       "1     7\n",
       "2     9\n",
       "3    10\n",
       "4     7\n",
       "5     8\n",
       "6    20\n",
       "7    16\n",
       "8     9\n",
       "9    19\n",
       "Name: Class_number_of_rings, dtype: int64"
      ]
     },
     "execution_count": 60,
     "metadata": {},
     "output_type": "execute_result"
    }
   ],
   "source": [
    "col_alvo.head(10)"
   ]
  },
  {
   "cell_type": "code",
   "execution_count": 61,
   "metadata": {},
   "outputs": [
    {
     "data": {
      "text/plain": [
       "0     True\n",
       "1    False\n",
       "2    False\n",
       "3     True\n",
       "4    False\n",
       "5    False\n",
       "6     True\n",
       "7     True\n",
       "8    False\n",
       "9     True\n",
       "Name: Class_number_of_rings, dtype: bool"
      ]
     },
     "execution_count": 61,
     "metadata": {},
     "output_type": "execute_result"
    }
   ],
   "source": [
    "y = dados['Class_number_of_rings'] >= 10\n",
    "y.head(10)"
   ]
  },
  {
   "cell_type": "markdown",
   "metadata": {},
   "source": [
    "#### Resultado do pré processamento"
   ]
  },
  {
   "cell_type": "code",
   "execution_count": 62,
   "metadata": {},
   "outputs": [
    {
     "data": {
      "text/plain": [
       "(4177, 10)"
      ]
     },
     "execution_count": 62,
     "metadata": {},
     "output_type": "execute_result"
    }
   ],
   "source": [
    "X.shape"
   ]
  },
  {
   "cell_type": "code",
   "execution_count": 63,
   "metadata": {},
   "outputs": [
    {
     "data": {
      "text/plain": [
       "(4177,)"
      ]
     },
     "execution_count": 63,
     "metadata": {},
     "output_type": "execute_result"
    }
   ],
   "source": [
    "y.shape"
   ]
  },
  {
   "cell_type": "code",
   "execution_count": 64,
   "metadata": {},
   "outputs": [
    {
     "data": {
      "text/plain": [
       "41770"
      ]
     },
     "execution_count": 64,
     "metadata": {},
     "output_type": "execute_result"
    }
   ],
   "source": [
    "X.size"
   ]
  },
  {
   "cell_type": "code",
   "execution_count": 65,
   "metadata": {},
   "outputs": [
    {
     "data": {
      "text/plain": [
       "4177"
      ]
     },
     "execution_count": 65,
     "metadata": {},
     "output_type": "execute_result"
    }
   ],
   "source": [
    "y.size"
   ]
  },
  {
   "cell_type": "code",
   "execution_count": 66,
   "metadata": {},
   "outputs": [
    {
     "data": {
      "text/plain": [
       "array([[0.455, 0.365, 0.095, ..., 0.   , 0.   , 1.   ],\n",
       "       [0.35 , 0.265, 0.09 , ..., 0.   , 0.   , 1.   ],\n",
       "       [0.53 , 0.42 , 0.135, ..., 1.   , 0.   , 0.   ],\n",
       "       ...,\n",
       "       [0.6  , 0.475, 0.205, ..., 0.   , 0.   , 1.   ],\n",
       "       [0.625, 0.485, 0.15 , ..., 1.   , 0.   , 0.   ],\n",
       "       [0.71 , 0.555, 0.195, ..., 0.   , 0.   , 1.   ]])"
      ]
     },
     "execution_count": 66,
     "metadata": {},
     "output_type": "execute_result"
    }
   ],
   "source": [
    "X"
   ]
  },
  {
   "cell_type": "code",
   "execution_count": 67,
   "metadata": {},
   "outputs": [
    {
     "data": {
      "text/plain": [
       "0        True\n",
       "1       False\n",
       "2       False\n",
       "3        True\n",
       "4       False\n",
       "        ...  \n",
       "4172     True\n",
       "4173     True\n",
       "4174    False\n",
       "4175     True\n",
       "4176     True\n",
       "Name: Class_number_of_rings, Length: 4177, dtype: bool"
      ]
     },
     "execution_count": 67,
     "metadata": {},
     "output_type": "execute_result"
    }
   ],
   "source": [
    "y"
   ]
  },
  {
   "cell_type": "markdown",
   "metadata": {},
   "source": [
    "Não aplicamos PCA para a redução da dimencionalidade por se tratar de uma base dedados passivel de ser processada em uma máquina doméstica, e pelo seu volume de dados ser considerado pequeno a médio porte, se tratando de volume de dados e dimensionalidade assim como não sera necessário o uso do K-MEANS para redução da dimensionalidade."
   ]
  },
  {
   "cell_type": "markdown",
   "metadata": {},
   "source": [
    "#### Separando os conjuntos de treino e teste"
   ]
  },
  {
   "cell_type": "code",
   "execution_count": 68,
   "metadata": {},
   "outputs": [],
   "source": [
    "nomes_atributos_numericos   = ['Length','Diameter','Height','Whole_weight','Shucked_weight','Viscera_weight','Shell_weight']\n",
    "nomes_atributos_categoricos = ['Sex']"
   ]
  },
  {
   "cell_type": "code",
   "execution_count": 69,
   "metadata": {},
   "outputs": [],
   "source": [
    "from sklearn.model_selection import train_test_split\n",
    "dados_treino, dados_teste = train_test_split(dados, test_size=0.2, random_state=42)\n",
    "\n",
    "\n",
    "dados_treino_labels = dados_treino['Class_number_of_rings'].copy()\n",
    "dados_treino        = dados_treino.drop(columns='Class_number_of_rings')\n",
    "\n",
    "\n",
    "dados_teste_labels = dados_teste['Class_number_of_rings'].copy()\n",
    "dados_teste        = dados_teste.drop(columns='Class_number_of_rings')\n",
    "\n"
   ]
  },
  {
   "cell_type": "markdown",
   "metadata": {},
   "source": [
    "#### Pré-processamento (automatizado)"
   ]
  },
  {
   "cell_type": "code",
   "execution_count": 70,
   "metadata": {},
   "outputs": [],
   "source": [
    "from sklearn.impute import SimpleImputer\n",
    "from sklearn.preprocessing import StandardScaler\n",
    "from sklearn.preprocessing import OneHotEncoder\n",
    "\n",
    "from sklearn.pipeline import Pipeline\n",
    "from sklearn.compose import ColumnTransformer\n",
    "\n",
    "pipeline_atr_numericos = Pipeline([\n",
    "    ('imputer',SimpleImputer(strategy='mean')),\n",
    "    ('scaler', StandardScaler()),\n",
    "])\n",
    "\n",
    "preproc_completo = ColumnTransformer([\n",
    "    ('numericos',   pipeline_atr_numericos, nomes_atributos_numericos),\n",
    "    ('categoricos', OneHotEncoder(),        nomes_atributos_categoricos),\n",
    "    ], \n",
    "    sparse_threshold=0)\n",
    "\n",
    "# pre-processamento do conjunto de treino\n",
    "X_treino = preproc_completo.fit_transform(dados_treino)\n",
    "\n",
    "# pre-processamento do conjunto de teste\n",
    "X_teste = preproc_completo.transform(dados_teste)\n",
    "\n",
    "# pre-processamento da coluna alvo para treno\n",
    "y_treino = dados_treino_labels.values >= 10\n",
    "\n",
    "# pre-processamento da coluna alvo para teste\n",
    "y_teste = dados_teste_labels.values >= 10"
   ]
  },
  {
   "cell_type": "code",
   "execution_count": 71,
   "metadata": {},
   "outputs": [
    {
     "data": {
      "text/plain": [
       "(3341, 10)"
      ]
     },
     "execution_count": 71,
     "metadata": {},
     "output_type": "execute_result"
    }
   ],
   "source": [
    "X_treino.shape"
   ]
  },
  {
   "cell_type": "code",
   "execution_count": 72,
   "metadata": {},
   "outputs": [
    {
     "data": {
      "text/plain": [
       "(3341,)"
      ]
     },
     "execution_count": 72,
     "metadata": {},
     "output_type": "execute_result"
    }
   ],
   "source": [
    "y_treino.shape"
   ]
  },
  {
   "cell_type": "code",
   "execution_count": 73,
   "metadata": {},
   "outputs": [
    {
     "data": {
      "text/plain": [
       "(836, 10)"
      ]
     },
     "execution_count": 73,
     "metadata": {},
     "output_type": "execute_result"
    }
   ],
   "source": [
    "X_teste.shape"
   ]
  },
  {
   "cell_type": "code",
   "execution_count": 74,
   "metadata": {},
   "outputs": [
    {
     "data": {
      "text/plain": [
       "(836,)"
      ]
     },
     "execution_count": 74,
     "metadata": {},
     "output_type": "execute_result"
    }
   ],
   "source": [
    "y_teste.shape"
   ]
  },
  {
   "cell_type": "markdown",
   "metadata": {},
   "source": [
    "#### Treinamento e avaliação de desempenho"
   ]
  },
  {
   "cell_type": "code",
   "execution_count": 75,
   "metadata": {},
   "outputs": [],
   "source": [
    "from sklearn.metrics import accuracy_score, precision_score, recall_score, f1_score"
   ]
  },
  {
   "cell_type": "markdown",
   "metadata": {},
   "source": [
    "#### Com regressão linear (apenas para comparar)"
   ]
  },
  {
   "cell_type": "code",
   "execution_count": 76,
   "metadata": {},
   "outputs": [
    {
     "name": "stdout",
     "output_type": "stream",
     "text": [
      "Acurácia:  0.7978468899521531\n",
      "Precisão:  0.7985436893203883\n",
      "Recall:    0.7927710843373494\n",
      "F1 Score:  0.7956469165659009\n"
     ]
    }
   ],
   "source": [
    "from sklearn.linear_model import LogisticRegression\n",
    "\n",
    "log_reg = LogisticRegression()\n",
    "log_reg.fit(X_treino, y_treino)\n",
    "\n",
    "y_previsto = log_reg.predict(X_teste)\n",
    "\n",
    "print(\"Acurácia: \", accuracy_score(y_teste,y_previsto))\n",
    "print(\"Precisão: \", precision_score(y_teste,y_previsto))\n",
    "print(\"Recall:   \", recall_score(y_teste,y_previsto))\n",
    "print(\"F1 Score: \", f1_score(y_teste,y_previsto))"
   ]
  },
  {
   "cell_type": "markdown",
   "metadata": {},
   "source": [
    "#### Treinamento com árvore de decisão (apenas para comparar)"
   ]
  },
  {
   "cell_type": "code",
   "execution_count": 77,
   "metadata": {},
   "outputs": [
    {
     "name": "stdout",
     "output_type": "stream",
     "text": [
      "Acurácia:  0.7978468899521531\n",
      "Precisão:  0.7985436893203883\n",
      "Recall:    0.7927710843373494\n",
      "F1 Score:  0.7956469165659009\n"
     ]
    }
   ],
   "source": [
    "from sklearn.tree import DecisionTreeClassifier\n",
    "from sklearn.metrics import accuracy_score, precision_score, recall_score, f1_score\n",
    "\n",
    "tree_clf = DecisionTreeClassifier(max_depth=2)\n",
    "tree_clf.fit(X_treino, y_treino)\n",
    "\n",
    "y_pred = tree_clf.predict(X_teste)\n",
    "\n",
    "print(\"Acurácia: \", accuracy_score(y_teste,y_previsto))\n",
    "print(\"Precisão: \", precision_score(y_teste,y_previsto))\n",
    "print(\"Recall:   \", recall_score(y_teste,y_previsto))\n",
    "print(\"F1 Score: \", f1_score(y_teste,y_previsto))"
   ]
  },
  {
   "cell_type": "markdown",
   "metadata": {},
   "source": [
    "#### <font color='red'>*Definição da arquitetura das redes neurais artificiais a serem desenvolvidas*</font>"
   ]
  },
  {
   "cell_type": "markdown",
   "metadata": {},
   "source": [
    "#### Treinamento de uma RNA tipo Multi-Layer Perceptron"
   ]
  },
  {
   "cell_type": "code",
   "execution_count": 78,
   "metadata": {},
   "outputs": [
    {
     "name": "stdout",
     "output_type": "stream",
     "text": [
      "MLP:\n",
      "Acurácia:  0.7990430622009569\n",
      "Precisão:  0.7892271662763466\n",
      "Recall:    0.8120481927710843\n",
      "F1 Score:  0.8004750593824228\n"
     ]
    },
    {
     "name": "stderr",
     "output_type": "stream",
     "text": [
      "/opt/anaconda3/lib/python3.8/site-packages/sklearn/neural_network/_multilayer_perceptron.py:582: ConvergenceWarning: Stochastic Optimizer: Maximum iterations (200) reached and the optimization hasn't converged yet.\n",
      "  warnings.warn(\n"
     ]
    }
   ],
   "source": [
    "from sklearn.neural_network import MLPClassifier\n",
    "\n",
    "mlp_clf = MLPClassifier(hidden_layer_sizes=(10))\n",
    "mlp_clf.fit(X_treino, y_treino)\n",
    "\n",
    "y_previsto = mlp_clf.predict(X_teste)\n",
    "print(\"MLP:\")\n",
    "print(\"Acurácia: \", accuracy_score(y_teste,y_previsto))\n",
    "print(\"Precisão: \", precision_score(y_teste,y_previsto))\n",
    "print(\"Recall:   \", recall_score(y_teste,y_previsto))\n",
    "print(\"F1 Score: \", f1_score(y_teste,y_previsto))"
   ]
  },
  {
   "cell_type": "code",
   "execution_count": 79,
   "metadata": {},
   "outputs": [
    {
     "name": "stdout",
     "output_type": "stream",
     "text": [
      "MLP:\n",
      "Acurácia:  0.7966507177033493\n",
      "Precisão:  0.7842227378190255\n",
      "Recall:    0.8144578313253013\n",
      "F1 Score:  0.7990543735224587\n"
     ]
    },
    {
     "name": "stderr",
     "output_type": "stream",
     "text": [
      "/opt/anaconda3/lib/python3.8/site-packages/sklearn/neural_network/_multilayer_perceptron.py:582: ConvergenceWarning: Stochastic Optimizer: Maximum iterations (200) reached and the optimization hasn't converged yet.\n",
      "  warnings.warn(\n"
     ]
    }
   ],
   "source": [
    "mlp_clf = MLPClassifier(hidden_layer_sizes=(20,4))\n",
    "mlp_clf.fit(X_treino, y_treino)\n",
    "\n",
    "y_previsto = mlp_clf.predict(X_teste)\n",
    "print(\"MLP:\")\n",
    "print(\"Acurácia: \", accuracy_score(y_teste,y_previsto))\n",
    "print(\"Precisão: \", precision_score(y_teste,y_previsto))\n",
    "print(\"Recall:   \", recall_score(y_teste,y_previsto))\n",
    "print(\"F1 Score: \", f1_score(y_teste,y_previsto))"
   ]
  },
  {
   "cell_type": "code",
   "execution_count": 80,
   "metadata": {},
   "outputs": [
    {
     "name": "stdout",
     "output_type": "stream",
     "text": [
      "MLP:\n",
      "Acurácia:  0.7822966507177034\n",
      "Precisão:  0.765375854214123\n",
      "Recall:    0.8096385542168675\n",
      "F1 Score:  0.7868852459016394\n"
     ]
    }
   ],
   "source": [
    "mlp_clf = MLPClassifier(hidden_layer_sizes=(10,10,10),activation=\"logistic\")\n",
    "mlp_clf.fit(X_treino, y_treino)\n",
    "\n",
    "y_previsto = mlp_clf.predict(X_teste)\n",
    "print(\"MLP:\")\n",
    "print(\"Acurácia: \", accuracy_score(y_teste,y_previsto))\n",
    "print(\"Precisão: \", precision_score(y_teste,y_previsto))\n",
    "print(\"Recall:   \", recall_score(y_teste,y_previsto))\n",
    "print(\"F1 Score: \", f1_score(y_teste,y_previsto))"
   ]
  },
  {
   "cell_type": "code",
   "execution_count": 81,
   "metadata": {},
   "outputs": [
    {
     "name": "stdout",
     "output_type": "stream",
     "text": [
      "MLP:\n",
      "Acurácia:  0.7727272727272727\n",
      "Precisão:  0.7505567928730512\n",
      "Recall:    0.8120481927710843\n",
      "F1 Score:  0.7800925925925927\n"
     ]
    },
    {
     "name": "stderr",
     "output_type": "stream",
     "text": [
      "/opt/anaconda3/lib/python3.8/site-packages/sklearn/neural_network/_multilayer_perceptron.py:582: ConvergenceWarning: Stochastic Optimizer: Maximum iterations (200) reached and the optimization hasn't converged yet.\n",
      "  warnings.warn(\n"
     ]
    }
   ],
   "source": [
    "mlp_clf = MLPClassifier(hidden_layer_sizes=(1),activation=\"logistic\")\n",
    "mlp_clf.fit(X_treino, y_treino)\n",
    "\n",
    "y_previsto = mlp_clf.predict(X_teste)\n",
    "print(\"MLP:\")\n",
    "print(\"Acurácia: \", accuracy_score(y_teste,y_previsto))\n",
    "print(\"Precisão: \", precision_score(y_teste,y_previsto))\n",
    "print(\"Recall:   \", recall_score(y_teste,y_previsto))\n",
    "print(\"F1 Score: \", f1_score(y_teste,y_previsto))"
   ]
  },
  {
   "cell_type": "code",
   "execution_count": 82,
   "metadata": {},
   "outputs": [
    {
     "name": "stdout",
     "output_type": "stream",
     "text": [
      "MLP:\n",
      "Acurácia:  0.7727272727272727\n",
      "Precisão:  0.7368421052631579\n",
      "Recall:    0.8433734939759037\n",
      "F1 Score:  0.7865168539325843\n"
     ]
    },
    {
     "name": "stderr",
     "output_type": "stream",
     "text": [
      "/opt/anaconda3/lib/python3.8/site-packages/sklearn/neural_network/_multilayer_perceptron.py:582: ConvergenceWarning: Stochastic Optimizer: Maximum iterations (200) reached and the optimization hasn't converged yet.\n",
      "  warnings.warn(\n"
     ]
    }
   ],
   "source": [
    "mlp_clf = MLPClassifier(hidden_layer_sizes=(5),activation=\"logistic\")\n",
    "mlp_clf.fit(X_treino, y_treino)\n",
    "\n",
    "y_previsto = mlp_clf.predict(X_teste)\n",
    "print(\"MLP:\")\n",
    "print(\"Acurácia: \", accuracy_score(y_teste,y_previsto))\n",
    "print(\"Precisão: \", precision_score(y_teste,y_previsto))\n",
    "print(\"Recall:   \", recall_score(y_teste,y_previsto))\n",
    "print(\"F1 Score: \", f1_score(y_teste,y_previsto))"
   ]
  },
  {
   "cell_type": "code",
   "execution_count": 83,
   "metadata": {},
   "outputs": [
    {
     "name": "stdout",
     "output_type": "stream",
     "text": [
      "MLP:\n",
      "Acurácia:  0.7870813397129187\n",
      "Precisão:  0.7749419953596288\n",
      "Recall:    0.8048192771084337\n",
      "F1 Score:  0.789598108747045\n"
     ]
    },
    {
     "name": "stderr",
     "output_type": "stream",
     "text": [
      "/opt/anaconda3/lib/python3.8/site-packages/sklearn/neural_network/_multilayer_perceptron.py:582: ConvergenceWarning: Stochastic Optimizer: Maximum iterations (200) reached and the optimization hasn't converged yet.\n",
      "  warnings.warn(\n"
     ]
    }
   ],
   "source": [
    "mlp_clf = MLPClassifier(hidden_layer_sizes=(5, 10),activation=\"logistic\")\n",
    "mlp_clf.fit(X_treino, y_treino)\n",
    "\n",
    "y_previsto = mlp_clf.predict(X_teste)\n",
    "print(\"MLP:\")\n",
    "print(\"Acurácia: \", accuracy_score(y_teste,y_previsto))\n",
    "print(\"Precisão: \", precision_score(y_teste,y_previsto))\n",
    "print(\"Recall:   \", recall_score(y_teste,y_previsto))\n",
    "print(\"F1 Score: \", f1_score(y_teste,y_previsto))"
   ]
  },
  {
   "cell_type": "code",
   "execution_count": 84,
   "metadata": {},
   "outputs": [
    {
     "name": "stdout",
     "output_type": "stream",
     "text": [
      "MLP:\n",
      "Acurácia:  0.7918660287081339\n",
      "Precisão:  0.7835294117647059\n",
      "Recall:    0.8024096385542169\n",
      "F1 Score:  0.7928571428571428\n"
     ]
    },
    {
     "name": "stderr",
     "output_type": "stream",
     "text": [
      "/opt/anaconda3/lib/python3.8/site-packages/sklearn/neural_network/_multilayer_perceptron.py:582: ConvergenceWarning: Stochastic Optimizer: Maximum iterations (200) reached and the optimization hasn't converged yet.\n",
      "  warnings.warn(\n"
     ]
    }
   ],
   "source": [
    "mlp_clf = MLPClassifier(hidden_layer_sizes=(20,10,20),activation=\"logistic\")\n",
    "mlp_clf.fit(X_treino, y_treino)\n",
    "\n",
    "y_previsto = mlp_clf.predict(X_teste)\n",
    "print(\"MLP:\")\n",
    "print(\"Acurácia: \", accuracy_score(y_teste,y_previsto))\n",
    "print(\"Precisão: \", precision_score(y_teste,y_previsto))\n",
    "print(\"Recall:   \", recall_score(y_teste,y_previsto))\n",
    "print(\"F1 Score: \", f1_score(y_teste,y_previsto))"
   ]
  },
  {
   "cell_type": "code",
   "execution_count": 85,
   "metadata": {},
   "outputs": [
    {
     "name": "stdout",
     "output_type": "stream",
     "text": [
      "MLP:\n",
      "Acurácia:  0.7894736842105263\n",
      "Precisão:  0.7893462469733656\n",
      "Recall:    0.7855421686746988\n",
      "F1 Score:  0.7874396135265701\n"
     ]
    },
    {
     "name": "stderr",
     "output_type": "stream",
     "text": [
      "/opt/anaconda3/lib/python3.8/site-packages/sklearn/neural_network/_multilayer_perceptron.py:582: ConvergenceWarning: Stochastic Optimizer: Maximum iterations (200) reached and the optimization hasn't converged yet.\n",
      "  warnings.warn(\n"
     ]
    }
   ],
   "source": [
    "mlp_clf = MLPClassifier(hidden_layer_sizes=(100),activation=\"logistic\")\n",
    "mlp_clf.fit(X_treino, y_treino)\n",
    "\n",
    "y_previsto = mlp_clf.predict(X_teste)\n",
    "print(\"MLP:\")\n",
    "print(\"Acurácia: \", accuracy_score(y_teste,y_previsto))\n",
    "print(\"Precisão: \", precision_score(y_teste,y_previsto))\n",
    "print(\"Recall:   \", recall_score(y_teste,y_previsto))\n",
    "print(\"F1 Score: \", f1_score(y_teste,y_previsto))"
   ]
  },
  {
   "cell_type": "code",
   "execution_count": 86,
   "metadata": {},
   "outputs": [
    {
     "name": "stdout",
     "output_type": "stream",
     "text": [
      "MLP:\n",
      "Acurácia:  0.8026315789473685\n",
      "Precisão:  0.7880184331797235\n",
      "Recall:    0.8240963855421687\n",
      "F1 Score:  0.8056537102473499\n"
     ]
    }
   ],
   "source": [
    "mlp_clf = MLPClassifier(hidden_layer_sizes=(10,10,10))\n",
    "mlp_clf.fit(X_treino, y_treino)\n",
    "\n",
    "y_previsto = mlp_clf.predict(X_teste)\n",
    "print(\"MLP:\")\n",
    "print(\"Acurácia: \", accuracy_score(y_teste,y_previsto))\n",
    "print(\"Precisão: \", precision_score(y_teste,y_previsto))\n",
    "print(\"Recall:   \", recall_score(y_teste,y_previsto))\n",
    "print(\"F1 Score: \", f1_score(y_teste,y_previsto))"
   ]
  },
  {
   "cell_type": "code",
   "execution_count": 87,
   "metadata": {},
   "outputs": [
    {
     "name": "stdout",
     "output_type": "stream",
     "text": [
      "MLP:\n",
      "Acurácia:  0.7942583732057417\n",
      "Precisão:  0.7845433255269321\n",
      "Recall:    0.8072289156626506\n",
      "F1 Score:  0.7957244655581949\n"
     ]
    },
    {
     "name": "stderr",
     "output_type": "stream",
     "text": [
      "/opt/anaconda3/lib/python3.8/site-packages/sklearn/neural_network/_multilayer_perceptron.py:582: ConvergenceWarning: Stochastic Optimizer: Maximum iterations (200) reached and the optimization hasn't converged yet.\n",
      "  warnings.warn(\n"
     ]
    }
   ],
   "source": [
    "mlp_clf = MLPClassifier(hidden_layer_sizes=(20))\n",
    "mlp_clf.fit(X_treino, y_treino)\n",
    "\n",
    "y_previsto = mlp_clf.predict(X_teste)\n",
    "print(\"MLP:\")\n",
    "print(\"Acurácia: \", accuracy_score(y_teste,y_previsto))\n",
    "print(\"Precisão: \", precision_score(y_teste,y_previsto))\n",
    "print(\"Recall:   \", recall_score(y_teste,y_previsto))\n",
    "print(\"F1 Score: \", f1_score(y_teste,y_previsto))"
   ]
  },
  {
   "cell_type": "code",
   "execution_count": 88,
   "metadata": {},
   "outputs": [
    {
     "name": "stdout",
     "output_type": "stream",
     "text": [
      "MLP:\n",
      "Acurácia:  0.7954545454545454\n",
      "Precisão:  0.7811059907834101\n",
      "Recall:    0.8168674698795181\n",
      "F1 Score:  0.7985865724381624\n"
     ]
    },
    {
     "name": "stderr",
     "output_type": "stream",
     "text": [
      "/opt/anaconda3/lib/python3.8/site-packages/sklearn/neural_network/_multilayer_perceptron.py:582: ConvergenceWarning: Stochastic Optimizer: Maximum iterations (200) reached and the optimization hasn't converged yet.\n",
      "  warnings.warn(\n"
     ]
    }
   ],
   "source": [
    "mlp_clf = MLPClassifier(hidden_layer_sizes=(20, 4))\n",
    "mlp_clf.fit(X_treino, y_treino)\n",
    "\n",
    "y_previsto = mlp_clf.predict(X_teste)\n",
    "print(\"MLP:\")\n",
    "print(\"Acurácia: \", accuracy_score(y_teste,y_previsto))\n",
    "print(\"Precisão: \", precision_score(y_teste,y_previsto))\n",
    "print(\"Recall:   \", recall_score(y_teste,y_previsto))\n",
    "print(\"F1 Score: \", f1_score(y_teste,y_previsto))"
   ]
  },
  {
   "cell_type": "code",
   "execution_count": null,
   "metadata": {},
   "outputs": [],
   "source": []
  },
  {
   "cell_type": "markdown",
   "metadata": {},
   "source": [
    "#### <font color='red'>*Treinamento de várias redes neurais artificiais, empregando todas as técnicas vistas durante o semestre*</font>"
   ]
  },
  {
   "cell_type": "markdown",
   "metadata": {},
   "source": [
    "#### Automatizar os testes com GridSearchCV"
   ]
  },
  {
   "cell_type": "code",
   "execution_count": 89,
   "metadata": {},
   "outputs": [
    {
     "data": {
      "text/plain": [
       "GridSearchCV(estimator=MLPClassifier(max_iter=500), n_jobs=-1,\n",
       "             param_grid=[{'activation': ['logistic', 'tam', 'relu'],\n",
       "                          'hidden_layer_sizes': [10, 20, 30, (10, 10), (20, 20),\n",
       "                                                 (20, 10)]}],\n",
       "             scoring='recall')"
      ]
     },
     "execution_count": 89,
     "metadata": {},
     "output_type": "execute_result"
    }
   ],
   "source": [
    "from sklearn.model_selection import GridSearchCV\n",
    "\n",
    "param_grid = [\n",
    "    {'hidden_layer_sizes':[(10),(20),(30),(10,10),(20,20),(20,10)],\n",
    "     'activation': ['logistic', 'tam', 'relu']},\n",
    "]\n",
    "\n",
    "mlp_clf = MLPClassifier(max_iter=500)\n",
    "grid_search = GridSearchCV(mlp_clf, param_grid, scoring='recall', n_jobs=-1)\n",
    "grid_search.fit(X_treino, y_treino)"
   ]
  },
  {
   "cell_type": "markdown",
   "metadata": {},
   "source": [
    "Melhor configuração segundo o GridSearchCV e segundo a arquitetura passada."
   ]
  },
  {
   "cell_type": "code",
   "execution_count": 90,
   "metadata": {},
   "outputs": [
    {
     "data": {
      "text/plain": [
       "{'activation': 'relu', 'hidden_layer_sizes': (20, 10)}"
      ]
     },
     "execution_count": 90,
     "metadata": {},
     "output_type": "execute_result"
    }
   ],
   "source": [
    "grid_search.best_params_"
   ]
  },
  {
   "cell_type": "code",
   "execution_count": 92,
   "metadata": {},
   "outputs": [
    {
     "name": "stdout",
     "output_type": "stream",
     "text": [
      "MLP:\n",
      "Acurácia:  0.8026315789473685\n",
      "Precisão:  0.7948113207547169\n",
      "Recall:    0.8120481927710843\n",
      "F1 Score:  0.803337306317044\n"
     ]
    },
    {
     "name": "stderr",
     "output_type": "stream",
     "text": [
      "/opt/anaconda3/lib/python3.8/site-packages/sklearn/neural_network/_multilayer_perceptron.py:582: ConvergenceWarning: Stochastic Optimizer: Maximum iterations (200) reached and the optimization hasn't converged yet.\n",
      "  warnings.warn(\n"
     ]
    }
   ],
   "source": [
    "mlp_clf = MLPClassifier(hidden_layer_sizes=(20),activation=\"relu\")\n",
    "mlp_clf.fit(X_treino, y_treino)\n",
    "\n",
    "y_previsto = mlp_clf.predict(X_teste)\n",
    "print(\"MLP:\")\n",
    "print(\"Acurácia: \", accuracy_score(y_teste,y_previsto))\n",
    "print(\"Precisão: \", precision_score(y_teste,y_previsto))\n",
    "print(\"Recall:   \", recall_score(y_teste,y_previsto))\n",
    "print(\"F1 Score: \", f1_score(y_teste,y_previsto))"
   ]
  },
  {
   "cell_type": "code",
   "execution_count": 93,
   "metadata": {},
   "outputs": [
    {
     "name": "stdout",
     "output_type": "stream",
     "text": [
      "Best MLP:\n",
      "Acurácia:  0.7978468899521531\n",
      "Precisão:  0.7887323943661971\n",
      "Recall:    0.8096385542168675\n",
      "F1 Score:  0.7978468899521531\n"
     ]
    }
   ],
   "source": [
    "y_previsto = grid_search.best_estimator_.predict(X_teste)\n",
    "print(\"Best MLP:\")\n",
    "print(\"Acurácia: \", accuracy_score(y_teste,y_previsto))\n",
    "print(\"Precisão: \", precision_score(y_teste,y_previsto))\n",
    "print(\"Recall:   \", recall_score(y_teste,y_previsto))\n",
    "print(\"F1 Score: \", accuracy_score(y_teste,y_previsto))"
   ]
  },
  {
   "cell_type": "markdown",
   "metadata": {},
   "source": [
    "#### Realizando o treinamento usando o TensorFlow"
   ]
  },
  {
   "cell_type": "code",
   "execution_count": 94,
   "metadata": {},
   "outputs": [],
   "source": [
    "import tensorflow as tf\n",
    "from tensorflow import keras"
   ]
  },
  {
   "cell_type": "code",
   "execution_count": 95,
   "metadata": {},
   "outputs": [
    {
     "data": {
      "text/plain": [
       "(10,)"
      ]
     },
     "execution_count": 95,
     "metadata": {},
     "output_type": "execute_result"
    }
   ],
   "source": [
    "X_treino.shape[1:]"
   ]
  },
  {
   "cell_type": "code",
   "execution_count": 96,
   "metadata": {},
   "outputs": [],
   "source": [
    "def MLPKerasTF(hidden_layer_sizes=(20)):\n",
    "    model = keras.models.Sequential()\n",
    "    model.add(keras.layers.InputLayer(input_shape=X_treino.shape[1:]))\n",
    "    for units in hidden_layer_sizes:\n",
    "        model.add(keras.layers.Dense(units,activation=activation))\n",
    "    model.add(keras.layers.Dense(2, activation=\"softmax\"))\n",
    "    model.compile(loss=\"sparse_categorical_crossentropy\", optimizer=\"sgd\", metrics=[\"accuracy\"])\n",
    "    model.summary()\n",
    "    print(\"activation=\",activation)\n",
    "    return model\n",
    "\n",
    "mlpKerasTF_clf = keras.wrappers.scikit_learn.KerasClassifier(MLPKerasTF)"
   ]
  },
  {
   "cell_type": "code",
   "execution_count": 97,
   "metadata": {},
   "outputs": [
    {
     "data": {
      "text/plain": [
       "GridSearchCV(estimator=MLPClassifier(max_iter=500), n_jobs=-1,\n",
       "             param_grid=[{'activation': ['logistic', 'tam', 'relu'],\n",
       "                          'hidden_layer_sizes': [10, 20, 30, (10, 10), (20, 20),\n",
       "                                                 (20, 10)]}],\n",
       "             scoring='recall')"
      ]
     },
     "execution_count": 97,
     "metadata": {},
     "output_type": "execute_result"
    }
   ],
   "source": [
    "from sklearn.model_selection import GridSearchCV\n",
    "\n",
    "param_grid = [\n",
    "    {'hidden_layer_sizes':[(10),(20),(30),(10,10),(20,20),(20,10)],\n",
    "     'activation': ['logistic', 'tam', 'relu']},\n",
    "]\n",
    "\n",
    "mlp_clf = MLPClassifier(max_iter=500)\n",
    "grid_search = GridSearchCV(mlp_clf, param_grid, scoring='recall', n_jobs=-1)\n",
    "grid_search.fit(X_treino, y_treino)"
   ]
  },
  {
   "cell_type": "code",
   "execution_count": 98,
   "metadata": {},
   "outputs": [
    {
     "data": {
      "text/plain": [
       "{'activation': 'relu', 'hidden_layer_sizes': (10, 10)}"
      ]
     },
     "execution_count": 98,
     "metadata": {},
     "output_type": "execute_result"
    }
   ],
   "source": [
    "grid_search.best_params_"
   ]
  },
  {
   "cell_type": "code",
   "execution_count": 99,
   "metadata": {},
   "outputs": [
    {
     "name": "stdout",
     "output_type": "stream",
     "text": [
      "MLP:\n",
      "Acurácia:  0.7966507177033493\n",
      "Precisão:  0.7842227378190255\n",
      "Recall:    0.8144578313253013\n",
      "F1 Score:  0.7990543735224587\n"
     ]
    },
    {
     "name": "stderr",
     "output_type": "stream",
     "text": [
      "/opt/anaconda3/lib/python3.8/site-packages/sklearn/neural_network/_multilayer_perceptron.py:582: ConvergenceWarning: Stochastic Optimizer: Maximum iterations (200) reached and the optimization hasn't converged yet.\n",
      "  warnings.warn(\n"
     ]
    }
   ],
   "source": [
    "mlp_clf = MLPClassifier(hidden_layer_sizes=(10,10),activation=\"relu\")\n",
    "mlp_clf.fit(X_treino, y_treino)\n",
    "\n",
    "y_previsto = mlp_clf.predict(X_teste)\n",
    "print(\"MLP:\")\n",
    "print(\"Acurácia: \", accuracy_score(y_teste,y_previsto))\n",
    "print(\"Precisão: \", precision_score(y_teste,y_previsto))\n",
    "print(\"Recall:   \", recall_score(y_teste,y_previsto))\n",
    "print(\"F1 Score: \", f1_score(y_teste,y_previsto))"
   ]
  },
  {
   "cell_type": "code",
   "execution_count": 100,
   "metadata": {},
   "outputs": [
    {
     "name": "stdout",
     "output_type": "stream",
     "text": [
      "Best MLPKerasTF:\n",
      "Acurácia:  0.7966507177033493\n",
      "Precisão:  0.7829099307159353\n",
      "Recall:    0.8168674698795181\n",
      "F1 Score:  0.7995283018867925\n"
     ]
    }
   ],
   "source": [
    "from sklearn.metrics import accuracy_score, precision_score, recall_score, f1_score\n",
    "\n",
    "y_previsto = grid_search.best_estimator_.predict(X_teste)\n",
    "print(\"Best MLPKerasTF:\")\n",
    "print(\"Acurácia: \", accuracy_score(y_teste,y_previsto))\n",
    "print(\"Precisão: \", precision_score(y_teste,y_previsto))\n",
    "print(\"Recall:   \", recall_score(y_teste,y_previsto))\n",
    "print(\"F1 Score: \", f1_score(y_teste,y_previsto))"
   ]
  },
  {
   "cell_type": "code",
   "execution_count": 101,
   "metadata": {},
   "outputs": [],
   "source": [
    "input_  = keras.layers.Input(shape=X_treino.shape[1:])\n",
    "hidden1 = keras.layers.Dense(100,activation=\"relu\")(input_)\n",
    "hidden2 = keras.layers.Dense(100,activation=\"relu\")(hidden1)\n",
    "concat  = keras.layers.Concatenate()([input_,hidden2])\n",
    "output  = keras.layers.Dense(1,activation=\"sigmoid\")(concat)\n",
    "modelDW   = keras.Model(inputs=[input_],outputs=[output])\n",
    "\n",
    "modelDW.compile(loss=\"binary_crossentropy\",\n",
    "                optimizer=\"adam\",\n",
    "                metrics=[\"accuracy\"])"
   ]
  },
  {
   "cell_type": "code",
   "execution_count": 102,
   "metadata": {},
   "outputs": [
    {
     "name": "stdout",
     "output_type": "stream",
     "text": [
      "logdir =  ./logs/run_2020_11_28-17_34_48\n",
      "Epoch 1/200\n",
      " 1/84 [..............................] - ETA: 0s - loss: 0.6343 - accuracy: 0.7812WARNING:tensorflow:From /opt/anaconda3/lib/python3.8/site-packages/tensorflow/python/ops/summary_ops_v2.py:1277: stop (from tensorflow.python.eager.profiler) is deprecated and will be removed after 2020-07-01.\n",
      "Instructions for updating:\n",
      "use `tf.profiler.experimental.stop` instead.\n",
      "WARNING:tensorflow:Callbacks method `on_train_batch_end` is slow compared to the batch time (batch time: 0.0024s vs `on_train_batch_end` time: 0.0197s). Check your callbacks.\n",
      "84/84 [==============================] - 1s 6ms/step - loss: 0.4935 - accuracy: 0.7601 - val_loss: 0.4877 - val_accuracy: 0.7399\n",
      "Epoch 2/200\n",
      "84/84 [==============================] - 0s 4ms/step - loss: 0.4491 - accuracy: 0.7919 - val_loss: 0.4607 - val_accuracy: 0.7713\n",
      "Epoch 3/200\n",
      "84/84 [==============================] - 0s 3ms/step - loss: 0.4311 - accuracy: 0.8050 - val_loss: 0.4475 - val_accuracy: 0.7862\n",
      "Epoch 4/200\n",
      "84/84 [==============================] - 0s 3ms/step - loss: 0.4241 - accuracy: 0.8065 - val_loss: 0.4450 - val_accuracy: 0.7877\n",
      "Epoch 5/200\n",
      "84/84 [==============================] - 0s 3ms/step - loss: 0.4167 - accuracy: 0.8080 - val_loss: 0.4406 - val_accuracy: 0.7952\n",
      "Epoch 6/200\n",
      "84/84 [==============================] - 1s 8ms/step - loss: 0.4207 - accuracy: 0.8080 - val_loss: 0.4607 - val_accuracy: 0.7743\n",
      "Epoch 7/200\n",
      "84/84 [==============================] - 0s 4ms/step - loss: 0.4136 - accuracy: 0.8121 - val_loss: 0.4426 - val_accuracy: 0.7982\n",
      "Epoch 8/200\n",
      "84/84 [==============================] - 0s 3ms/step - loss: 0.4138 - accuracy: 0.8118 - val_loss: 0.4424 - val_accuracy: 0.7937\n",
      "Epoch 9/200\n",
      "84/84 [==============================] - 0s 3ms/step - loss: 0.4119 - accuracy: 0.8076 - val_loss: 0.4528 - val_accuracy: 0.7833\n"
     ]
    }
   ],
   "source": [
    "import os\n",
    "import time\n",
    "\n",
    "run_id = time.strftime(\"run_%Y_%m_%d-%H_%M_%S\")\n",
    "root_logdir = os.path.join(os.curdir,\"logs\")\n",
    "run_logdir = os.path.join(root_logdir,run_id)\n",
    "print(\"logdir = \",run_logdir)\n",
    "\n",
    "tensorboard_cb = keras.callbacks.TensorBoard(run_logdir)\n",
    "\n",
    "# para forçar o treinamento a parar antecipadamente quando não houver progresso na minimização de erro\n",
    "early_stopping_cb = keras.callbacks.EarlyStopping(patience=4,restore_best_weights=True)\n",
    "\n",
    "# para alvar periodicamente o modelo treinado e poder recomeçar o treinamento em caso de pane no meio do treinamento\n",
    "checkpoint_cb     = keras.callbacks.ModelCheckpoint(\"modelDW-Abalone.h5\") # Arquivo formato HDF5\n",
    "\n",
    "history = modelDW.fit(X_treino, \n",
    "                      y_treino, \n",
    "                      epochs=200, \n",
    "                      validation_split=0.2,\n",
    "                      callbacks=[early_stopping_cb, \n",
    "                                 checkpoint_cb,\n",
    "                                 tensorboard_cb])"
   ]
  },
  {
   "cell_type": "code",
   "execution_count": 103,
   "metadata": {},
   "outputs": [
    {
     "data": {
      "text/plain": [
       "array([[8.74648631e-01],\n",
       "       [4.89481032e-01],\n",
       "       [9.35416043e-01],\n",
       "       [8.55267406e-01],\n",
       "       [7.98400342e-01],\n",
       "       [5.30637622e-01],\n",
       "       [2.67520845e-01],\n",
       "       [1.54137760e-01],\n",
       "       [3.35352421e-02],\n",
       "       [5.58300257e-01],\n",
       "       [7.18178749e-01],\n",
       "       [5.09880781e-02],\n",
       "       [8.75384569e-01],\n",
       "       [5.35106957e-02],\n",
       "       [9.01726484e-02],\n",
       "       [9.02718961e-01],\n",
       "       [9.13016438e-01],\n",
       "       [5.36544681e-01],\n",
       "       [9.84206796e-01],\n",
       "       [1.91492051e-01],\n",
       "       [9.99677241e-01],\n",
       "       [8.42051148e-01],\n",
       "       [7.92458236e-01],\n",
       "       [7.88549304e-01],\n",
       "       [3.63044024e-01],\n",
       "       [9.19682682e-02],\n",
       "       [3.69511276e-01],\n",
       "       [1.19031817e-01],\n",
       "       [4.33384776e-01],\n",
       "       [4.56139088e-01],\n",
       "       [8.51828098e-01],\n",
       "       [8.37530315e-01],\n",
       "       [2.98691690e-02],\n",
       "       [6.73698068e-01],\n",
       "       [1.51722789e-01],\n",
       "       [3.86847973e-01],\n",
       "       [1.64127946e-02],\n",
       "       [1.68204308e-03],\n",
       "       [2.39056557e-01],\n",
       "       [2.37023532e-02],\n",
       "       [9.87266123e-01],\n",
       "       [9.97543573e-01],\n",
       "       [8.36646199e-01],\n",
       "       [1.58654988e-01],\n",
       "       [7.21850991e-01],\n",
       "       [9.63764310e-01],\n",
       "       [3.88735175e-01],\n",
       "       [1.92434311e-01],\n",
       "       [9.03972626e-01],\n",
       "       [2.68130302e-02],\n",
       "       [2.11682022e-02],\n",
       "       [9.94702935e-01],\n",
       "       [1.59626007e-01],\n",
       "       [3.96406651e-03],\n",
       "       [2.29992867e-02],\n",
       "       [6.51439130e-01],\n",
       "       [7.38971412e-01],\n",
       "       [9.40738559e-01],\n",
       "       [4.96363074e-01],\n",
       "       [2.21463114e-01],\n",
       "       [8.30477297e-01],\n",
       "       [9.48739231e-01],\n",
       "       [6.61840439e-01],\n",
       "       [5.13205528e-02],\n",
       "       [2.40916610e-02],\n",
       "       [7.98670769e-01],\n",
       "       [5.00819087e-03],\n",
       "       [1.85002089e-02],\n",
       "       [1.56220913e-01],\n",
       "       [8.46167922e-01],\n",
       "       [8.37001085e-01],\n",
       "       [6.74798369e-01],\n",
       "       [3.72168183e-01],\n",
       "       [3.06478262e-01],\n",
       "       [2.44512111e-01],\n",
       "       [8.76611352e-01],\n",
       "       [9.81896460e-01],\n",
       "       [7.69703031e-01],\n",
       "       [8.20346594e-01],\n",
       "       [2.78998941e-01],\n",
       "       [8.48608851e-01],\n",
       "       [7.71857142e-01],\n",
       "       [8.11732888e-01],\n",
       "       [1.59271985e-01],\n",
       "       [2.21447051e-02],\n",
       "       [8.94961238e-01],\n",
       "       [2.89307266e-01],\n",
       "       [2.94821084e-01],\n",
       "       [9.43585515e-01],\n",
       "       [8.83583009e-01],\n",
       "       [8.32821190e-01],\n",
       "       [7.10181117e-01],\n",
       "       [7.63719916e-01],\n",
       "       [9.30397511e-01],\n",
       "       [8.64467204e-01],\n",
       "       [5.12684464e-01],\n",
       "       [2.31753290e-02],\n",
       "       [6.22634053e-01],\n",
       "       [5.95374405e-01],\n",
       "       [2.08275616e-02],\n",
       "       [8.96631122e-01],\n",
       "       [5.22966027e-01],\n",
       "       [8.69792223e-01],\n",
       "       [7.40094900e-01],\n",
       "       [3.49612832e-01],\n",
       "       [5.30804574e-01],\n",
       "       [8.57700109e-01],\n",
       "       [4.68151391e-01],\n",
       "       [5.94345510e-01],\n",
       "       [8.77498627e-01],\n",
       "       [8.89711738e-01],\n",
       "       [2.13910222e-01],\n",
       "       [8.97328496e-01],\n",
       "       [3.62800300e-01],\n",
       "       [7.55539656e-01],\n",
       "       [7.21344352e-03],\n",
       "       [5.12118816e-01],\n",
       "       [3.89064908e-01],\n",
       "       [8.56243014e-01],\n",
       "       [8.85495782e-01],\n",
       "       [7.00001001e-01],\n",
       "       [6.18027210e-01],\n",
       "       [3.69502604e-01],\n",
       "       [6.67816281e-01],\n",
       "       [7.86449432e-01],\n",
       "       [8.85926902e-01],\n",
       "       [5.92128396e-01],\n",
       "       [2.96403974e-01],\n",
       "       [7.14524388e-01],\n",
       "       [9.77115989e-01],\n",
       "       [4.78710979e-01],\n",
       "       [9.93623137e-02],\n",
       "       [6.89605653e-01],\n",
       "       [5.56284189e-03],\n",
       "       [1.84140205e-02],\n",
       "       [1.59959644e-01],\n",
       "       [6.53116226e-01],\n",
       "       [9.08838451e-01],\n",
       "       [9.08748507e-02],\n",
       "       [9.18324769e-01],\n",
       "       [1.89159364e-01],\n",
       "       [4.83664393e-01],\n",
       "       [2.91068316e-01],\n",
       "       [4.75288540e-01],\n",
       "       [8.34396243e-01],\n",
       "       [9.83694077e-01],\n",
       "       [6.91263139e-01],\n",
       "       [8.88956070e-01],\n",
       "       [3.64998937e-01],\n",
       "       [8.11973810e-01],\n",
       "       [2.77712405e-01],\n",
       "       [6.82625234e-01],\n",
       "       [4.21733618e-01],\n",
       "       [7.48800039e-01],\n",
       "       [2.66501307e-01],\n",
       "       [6.47009850e-01],\n",
       "       [9.44669127e-01],\n",
       "       [1.27681196e-01],\n",
       "       [2.88906544e-01],\n",
       "       [5.89753389e-02],\n",
       "       [5.94714522e-01],\n",
       "       [1.36730373e-02],\n",
       "       [7.27726579e-01],\n",
       "       [7.86939859e-01],\n",
       "       [3.69509161e-02],\n",
       "       [7.82043695e-01],\n",
       "       [9.92037356e-01],\n",
       "       [6.88824415e-01],\n",
       "       [7.35475063e-01],\n",
       "       [3.65286052e-01],\n",
       "       [7.27248669e-01],\n",
       "       [9.57695782e-01],\n",
       "       [7.50904560e-01],\n",
       "       [5.00782490e-01],\n",
       "       [3.19909751e-02],\n",
       "       [3.31135929e-01],\n",
       "       [1.29090369e-01],\n",
       "       [6.56898499e-01],\n",
       "       [4.24304277e-01],\n",
       "       [3.61007780e-01],\n",
       "       [8.37731123e-01],\n",
       "       [3.17940623e-01],\n",
       "       [3.06002200e-02],\n",
       "       [2.79419035e-01],\n",
       "       [2.58462727e-02],\n",
       "       [6.12700820e-01],\n",
       "       [1.17010981e-01],\n",
       "       [7.48908281e-01],\n",
       "       [4.76506978e-01],\n",
       "       [8.61528516e-03],\n",
       "       [1.47216409e-01],\n",
       "       [6.23423338e-01],\n",
       "       [9.75866675e-01],\n",
       "       [8.25348377e-01],\n",
       "       [6.49418592e-01],\n",
       "       [5.61459899e-01],\n",
       "       [7.25854039e-01],\n",
       "       [9.60474133e-01],\n",
       "       [9.39340115e-01],\n",
       "       [7.54810512e-01],\n",
       "       [5.81562817e-02],\n",
       "       [9.62651610e-01],\n",
       "       [9.33887661e-01],\n",
       "       [7.63690710e-01],\n",
       "       [1.11194134e-01],\n",
       "       [8.47615600e-01],\n",
       "       [8.28288794e-01],\n",
       "       [4.67318863e-01],\n",
       "       [9.66480374e-02],\n",
       "       [6.55980408e-01],\n",
       "       [2.80064046e-02],\n",
       "       [5.87731481e-01],\n",
       "       [9.33258355e-01],\n",
       "       [1.99113190e-02],\n",
       "       [7.94689536e-01],\n",
       "       [8.30580354e-01],\n",
       "       [9.09100413e-01],\n",
       "       [3.31762135e-02],\n",
       "       [6.02928102e-01],\n",
       "       [9.66412842e-01],\n",
       "       [8.11033964e-01],\n",
       "       [6.88122571e-01],\n",
       "       [9.59308982e-01],\n",
       "       [9.52307403e-01],\n",
       "       [3.84989619e-01],\n",
       "       [2.38288939e-02],\n",
       "       [9.12715197e-02],\n",
       "       [9.65117693e-01],\n",
       "       [4.85733926e-01],\n",
       "       [8.26763213e-01],\n",
       "       [5.96717000e-03],\n",
       "       [9.05749738e-01],\n",
       "       [7.19106317e-01],\n",
       "       [9.67679262e-01],\n",
       "       [1.99217319e-01],\n",
       "       [6.90408409e-01],\n",
       "       [2.19027191e-01],\n",
       "       [1.79421932e-01],\n",
       "       [1.09679401e-02],\n",
       "       [4.89788115e-01],\n",
       "       [6.42858148e-01],\n",
       "       [9.91953492e-01],\n",
       "       [3.33020478e-01],\n",
       "       [1.66216165e-01],\n",
       "       [4.36293244e-01],\n",
       "       [9.21674371e-02],\n",
       "       [6.14271998e-01],\n",
       "       [8.56783986e-02],\n",
       "       [1.68428928e-01],\n",
       "       [5.92721701e-02],\n",
       "       [3.23007703e-02],\n",
       "       [7.94533074e-01],\n",
       "       [8.43658090e-01],\n",
       "       [2.72373259e-02],\n",
       "       [8.47356975e-01],\n",
       "       [9.41201687e-01],\n",
       "       [7.13758230e-01],\n",
       "       [5.90121746e-03],\n",
       "       [9.84634876e-01],\n",
       "       [5.59711337e-01],\n",
       "       [8.83568883e-01],\n",
       "       [6.50220156e-01],\n",
       "       [1.42375380e-01],\n",
       "       [3.40581924e-01],\n",
       "       [1.77999437e-01],\n",
       "       [1.53602958e-02],\n",
       "       [9.36490297e-03],\n",
       "       [8.21308374e-01],\n",
       "       [6.09220266e-01],\n",
       "       [5.14560640e-02],\n",
       "       [5.14719665e-01],\n",
       "       [3.90049994e-01],\n",
       "       [6.66946769e-02],\n",
       "       [7.93082178e-01],\n",
       "       [4.58168685e-01],\n",
       "       [8.63175452e-01],\n",
       "       [8.19890440e-01],\n",
       "       [9.31302547e-01],\n",
       "       [8.26612711e-01],\n",
       "       [6.79236650e-03],\n",
       "       [9.10014987e-01],\n",
       "       [1.37256026e-01],\n",
       "       [7.29921699e-01],\n",
       "       [2.04745173e-01],\n",
       "       [5.82250655e-02],\n",
       "       [8.22480202e-01],\n",
       "       [7.82898903e-01],\n",
       "       [3.20038199e-03],\n",
       "       [7.32363343e-01],\n",
       "       [8.81870747e-01],\n",
       "       [2.25318462e-01],\n",
       "       [2.74732709e-03],\n",
       "       [8.26111794e-01],\n",
       "       [1.50201976e-01],\n",
       "       [7.69368112e-01],\n",
       "       [7.85952747e-01],\n",
       "       [4.28801775e-03],\n",
       "       [9.95163381e-01],\n",
       "       [5.61155975e-02],\n",
       "       [6.55459166e-01],\n",
       "       [6.61811650e-01],\n",
       "       [5.63915074e-01],\n",
       "       [1.93991959e-02],\n",
       "       [9.34691846e-01],\n",
       "       [4.32932973e-01],\n",
       "       [3.47119629e-01],\n",
       "       [8.66909027e-01],\n",
       "       [2.92560458e-02],\n",
       "       [9.43636894e-03],\n",
       "       [1.38006508e-02],\n",
       "       [4.00056601e-01],\n",
       "       [2.30017602e-02],\n",
       "       [5.34100235e-02],\n",
       "       [5.50005019e-01],\n",
       "       [5.61369121e-01],\n",
       "       [2.68198907e-01],\n",
       "       [4.63476777e-03],\n",
       "       [9.60973859e-01],\n",
       "       [5.48196912e-01],\n",
       "       [1.01182371e-01],\n",
       "       [8.54076922e-01],\n",
       "       [2.06714123e-01],\n",
       "       [4.45410609e-02],\n",
       "       [6.15097284e-01],\n",
       "       [3.82735550e-01],\n",
       "       [1.72472298e-02],\n",
       "       [9.30022478e-01],\n",
       "       [9.97716904e-01],\n",
       "       [4.58448291e-01],\n",
       "       [4.02426451e-01],\n",
       "       [1.90761626e-01],\n",
       "       [8.03711414e-01],\n",
       "       [4.50198054e-02],\n",
       "       [3.33618402e-01],\n",
       "       [7.94345617e-01],\n",
       "       [5.96149027e-01],\n",
       "       [4.84884977e-01],\n",
       "       [9.80674267e-01],\n",
       "       [3.87903064e-01],\n",
       "       [5.67876458e-01],\n",
       "       [5.65678179e-01],\n",
       "       [5.05927384e-01],\n",
       "       [9.63113904e-01],\n",
       "       [5.12202919e-01],\n",
       "       [1.62579536e-01],\n",
       "       [8.49148512e-01],\n",
       "       [7.11859882e-01],\n",
       "       [8.08442414e-01],\n",
       "       [5.66662967e-01],\n",
       "       [2.89577961e-01],\n",
       "       [7.73660183e-01],\n",
       "       [6.09466612e-01],\n",
       "       [1.55826688e-01],\n",
       "       [7.18850911e-01],\n",
       "       [7.81610131e-01],\n",
       "       [1.35737658e-03],\n",
       "       [1.33069664e-01],\n",
       "       [3.44981551e-02],\n",
       "       [2.00819969e-03],\n",
       "       [2.96623439e-01],\n",
       "       [4.65505362e-01],\n",
       "       [2.92059153e-01],\n",
       "       [8.63540769e-01],\n",
       "       [7.18489885e-02],\n",
       "       [2.68627405e-01],\n",
       "       [5.28160930e-02],\n",
       "       [7.97272682e-01],\n",
       "       [2.99438566e-01],\n",
       "       [5.24091005e-01],\n",
       "       [1.88340545e-02],\n",
       "       [9.95864034e-01],\n",
       "       [8.00808132e-01],\n",
       "       [7.86676407e-02],\n",
       "       [2.19883025e-02],\n",
       "       [9.14535403e-01],\n",
       "       [9.69584942e-01],\n",
       "       [1.46854073e-01],\n",
       "       [1.54636264e-01],\n",
       "       [1.33396596e-01],\n",
       "       [4.42781806e-01],\n",
       "       [5.13167679e-01],\n",
       "       [1.79483086e-01],\n",
       "       [1.81268275e-01],\n",
       "       [6.48959219e-01],\n",
       "       [7.92194545e-01],\n",
       "       [2.87079811e-03],\n",
       "       [9.53168988e-01],\n",
       "       [9.56958234e-01],\n",
       "       [9.48295891e-02],\n",
       "       [1.66529655e-01],\n",
       "       [4.59449261e-01],\n",
       "       [2.85743177e-01],\n",
       "       [6.88065529e-01],\n",
       "       [8.82062316e-01],\n",
       "       [2.24048764e-01],\n",
       "       [1.82756275e-01],\n",
       "       [4.92039233e-01],\n",
       "       [9.86858130e-01],\n",
       "       [9.00766551e-01],\n",
       "       [3.58745843e-01],\n",
       "       [9.04836893e-01],\n",
       "       [3.02977920e-01],\n",
       "       [6.91060662e-01],\n",
       "       [8.11765790e-02],\n",
       "       [3.39215100e-02],\n",
       "       [2.16267496e-01],\n",
       "       [7.82904625e-01],\n",
       "       [4.58348304e-01],\n",
       "       [8.63530517e-01],\n",
       "       [5.62740922e-01],\n",
       "       [8.73622656e-01],\n",
       "       [8.85551691e-01],\n",
       "       [2.81573832e-02],\n",
       "       [8.51371408e-01],\n",
       "       [8.27028632e-01],\n",
       "       [7.24798441e-03],\n",
       "       [6.44829869e-03],\n",
       "       [4.05660212e-01],\n",
       "       [7.46215165e-01],\n",
       "       [8.48701239e-01],\n",
       "       [4.01649475e-01],\n",
       "       [9.76702869e-01],\n",
       "       [8.16711068e-01],\n",
       "       [6.30803406e-01],\n",
       "       [6.05273247e-01],\n",
       "       [6.57571077e-01],\n",
       "       [8.38654637e-01],\n",
       "       [3.57216179e-01],\n",
       "       [6.21147692e-01],\n",
       "       [2.18808591e-01],\n",
       "       [6.44788206e-01],\n",
       "       [4.72255051e-01],\n",
       "       [8.87720287e-01],\n",
       "       [4.74419624e-01],\n",
       "       [9.08259094e-01],\n",
       "       [3.29833627e-02],\n",
       "       [8.16424370e-01],\n",
       "       [9.67727602e-02],\n",
       "       [4.66166258e-01],\n",
       "       [6.27729297e-01],\n",
       "       [1.04293317e-01],\n",
       "       [8.00592184e-01],\n",
       "       [5.09689152e-01],\n",
       "       [2.05926508e-01],\n",
       "       [8.87563050e-01],\n",
       "       [5.32714188e-01],\n",
       "       [3.62502545e-01],\n",
       "       [6.24062240e-01],\n",
       "       [8.94811034e-01],\n",
       "       [8.17947388e-01],\n",
       "       [1.03493780e-01],\n",
       "       [3.15165848e-01],\n",
       "       [3.35507095e-02],\n",
       "       [1.41182601e-01],\n",
       "       [1.72228038e-01],\n",
       "       [8.05925190e-01],\n",
       "       [7.62207806e-02],\n",
       "       [2.46055901e-01],\n",
       "       [8.03494334e-01],\n",
       "       [4.84628081e-02],\n",
       "       [2.29169369e-01],\n",
       "       [9.24508333e-01],\n",
       "       [8.07070971e-01],\n",
       "       [8.00767303e-01],\n",
       "       [1.22073710e-01],\n",
       "       [1.28072798e-02],\n",
       "       [7.97917962e-01],\n",
       "       [5.37868083e-01],\n",
       "       [1.37650341e-01],\n",
       "       [9.13190842e-02],\n",
       "       [6.68033302e-01],\n",
       "       [9.66586828e-01],\n",
       "       [6.21482134e-02],\n",
       "       [5.22461057e-01],\n",
       "       [6.65415525e-01],\n",
       "       [3.45196426e-02],\n",
       "       [9.89017844e-01],\n",
       "       [9.95635927e-01],\n",
       "       [7.37228990e-02],\n",
       "       [1.19742304e-01],\n",
       "       [7.81561017e-01],\n",
       "       [8.31060410e-01],\n",
       "       [3.24057877e-01],\n",
       "       [9.17282939e-01],\n",
       "       [5.90945601e-01],\n",
       "       [7.70524085e-01],\n",
       "       [7.50235975e-01],\n",
       "       [8.60508144e-01],\n",
       "       [5.16773164e-01],\n",
       "       [2.66487002e-02],\n",
       "       [6.49119377e-01],\n",
       "       [8.47388625e-01],\n",
       "       [5.75208962e-02],\n",
       "       [5.43414652e-01],\n",
       "       [7.35176742e-01],\n",
       "       [3.68956834e-01],\n",
       "       [8.76973391e-01],\n",
       "       [4.74921077e-01],\n",
       "       [1.91247731e-01],\n",
       "       [8.34170580e-01],\n",
       "       [1.11568838e-01],\n",
       "       [8.42933118e-01],\n",
       "       [2.95582414e-03],\n",
       "       [2.41443694e-01],\n",
       "       [4.24947351e-01],\n",
       "       [2.84399688e-02],\n",
       "       [4.25847769e-02],\n",
       "       [3.82629126e-01],\n",
       "       [9.18105721e-01],\n",
       "       [7.63340175e-01],\n",
       "       [6.19961977e-01],\n",
       "       [7.90016949e-01],\n",
       "       [3.59363347e-01],\n",
       "       [4.12336022e-01],\n",
       "       [1.06569678e-01],\n",
       "       [2.58437723e-01],\n",
       "       [4.32059169e-03],\n",
       "       [8.77951026e-01],\n",
       "       [4.06839043e-01],\n",
       "       [8.37964773e-01],\n",
       "       [3.45309854e-01],\n",
       "       [1.11265242e-01],\n",
       "       [9.47379410e-01],\n",
       "       [1.27156377e-01],\n",
       "       [4.65363264e-04],\n",
       "       [1.04419649e-01],\n",
       "       [3.31523210e-01],\n",
       "       [9.37090278e-01],\n",
       "       [9.66853082e-01],\n",
       "       [2.26612777e-01],\n",
       "       [7.73003995e-02],\n",
       "       [6.59459293e-01],\n",
       "       [2.10183859e-03],\n",
       "       [9.91076052e-01],\n",
       "       [6.78230166e-01],\n",
       "       [3.40215862e-02],\n",
       "       [8.68991256e-01],\n",
       "       [6.95851922e-01],\n",
       "       [4.74722147e-01],\n",
       "       [8.37129653e-01],\n",
       "       [9.06190574e-02],\n",
       "       [7.24849105e-03],\n",
       "       [3.29116911e-01],\n",
       "       [7.41047263e-01],\n",
       "       [1.16346478e-02],\n",
       "       [1.29813492e-01],\n",
       "       [4.23114002e-01],\n",
       "       [4.03181255e-01],\n",
       "       [8.95917296e-01],\n",
       "       [2.33773470e-01],\n",
       "       [3.57804298e-02],\n",
       "       [2.46988058e-01],\n",
       "       [9.67549086e-01],\n",
       "       [4.02684063e-01],\n",
       "       [1.12130761e-01],\n",
       "       [5.79169095e-02],\n",
       "       [7.26913214e-01],\n",
       "       [2.17303336e-02],\n",
       "       [1.83938950e-01],\n",
       "       [6.60817087e-01],\n",
       "       [6.57056212e-01],\n",
       "       [2.68011332e-01],\n",
       "       [4.00270939e-01],\n",
       "       [5.12497663e-01],\n",
       "       [1.32576674e-01],\n",
       "       [9.32491183e-01],\n",
       "       [7.73955345e-01],\n",
       "       [4.68642563e-01],\n",
       "       [1.39753222e-02],\n",
       "       [4.27681029e-01],\n",
       "       [3.14130157e-01],\n",
       "       [1.07375205e-01],\n",
       "       [5.36822557e-01],\n",
       "       [1.39978737e-01],\n",
       "       [2.79296339e-01],\n",
       "       [8.51950288e-01],\n",
       "       [4.35467362e-02],\n",
       "       [8.87471497e-01],\n",
       "       [6.54762089e-02],\n",
       "       [3.55653465e-02],\n",
       "       [2.03874081e-01],\n",
       "       [8.35365355e-02],\n",
       "       [3.64929318e-01],\n",
       "       [3.40210199e-02],\n",
       "       [9.63417411e-01],\n",
       "       [8.96391392e-01],\n",
       "       [5.39284885e-01],\n",
       "       [7.60895252e-01],\n",
       "       [5.37342012e-01],\n",
       "       [7.42700875e-01],\n",
       "       [7.81705260e-01],\n",
       "       [4.88320500e-01],\n",
       "       [3.88899148e-01],\n",
       "       [3.23641896e-01],\n",
       "       [4.41866577e-01],\n",
       "       [6.15447938e-01],\n",
       "       [4.05872762e-02],\n",
       "       [2.13074952e-01],\n",
       "       [1.61158562e-01],\n",
       "       [8.83297205e-01],\n",
       "       [9.83116627e-02],\n",
       "       [9.58776593e-01],\n",
       "       [8.02073002e-01],\n",
       "       [9.97563124e-01],\n",
       "       [9.63821709e-01],\n",
       "       [8.91486526e-01],\n",
       "       [9.65516686e-01],\n",
       "       [1.81198716e-02],\n",
       "       [9.09451008e-01],\n",
       "       [6.31525338e-01],\n",
       "       [5.76955378e-02],\n",
       "       [7.66454339e-02],\n",
       "       [2.53871083e-03],\n",
       "       [8.03757787e-01],\n",
       "       [4.04422760e-01],\n",
       "       [5.40663958e-01],\n",
       "       [7.91377068e-01],\n",
       "       [9.98027623e-01],\n",
       "       [3.34198475e-02],\n",
       "       [3.44328344e-01],\n",
       "       [7.24293590e-01],\n",
       "       [5.68832159e-02],\n",
       "       [3.16336989e-01],\n",
       "       [2.99479067e-02],\n",
       "       [6.93224669e-02],\n",
       "       [6.44098222e-01],\n",
       "       [9.09692168e-01],\n",
       "       [9.42778885e-01],\n",
       "       [5.29209316e-01],\n",
       "       [7.79248059e-01],\n",
       "       [3.57607305e-01],\n",
       "       [9.23153162e-02],\n",
       "       [6.45512700e-01],\n",
       "       [3.60742301e-01],\n",
       "       [6.56478047e-01],\n",
       "       [9.43548501e-01],\n",
       "       [2.18054086e-01],\n",
       "       [9.29227173e-01],\n",
       "       [7.59332299e-01],\n",
       "       [9.08460617e-01],\n",
       "       [4.14325118e-01],\n",
       "       [1.96413994e-02],\n",
       "       [6.85498118e-03],\n",
       "       [8.45537543e-01],\n",
       "       [7.95073211e-01],\n",
       "       [2.08979249e-01],\n",
       "       [9.53971446e-01],\n",
       "       [2.66621768e-01],\n",
       "       [4.36128825e-01],\n",
       "       [9.91512537e-01],\n",
       "       [9.55811083e-01],\n",
       "       [4.19152975e-02],\n",
       "       [7.50252604e-03],\n",
       "       [9.54144716e-01],\n",
       "       [8.47933054e-01],\n",
       "       [7.92655230e-01],\n",
       "       [1.43705904e-02],\n",
       "       [3.08017731e-02],\n",
       "       [7.90262938e-01],\n",
       "       [9.19479489e-01],\n",
       "       [7.07368612e-01],\n",
       "       [7.16908574e-02],\n",
       "       [9.35389757e-01],\n",
       "       [9.29397941e-01],\n",
       "       [5.46646595e-01],\n",
       "       [2.91799366e-01],\n",
       "       [9.27016020e-01],\n",
       "       [7.21462131e-01],\n",
       "       [2.06763744e-02],\n",
       "       [8.87435913e-01],\n",
       "       [6.89413548e-02],\n",
       "       [3.15168977e-01],\n",
       "       [8.75000715e-01],\n",
       "       [1.14484102e-01],\n",
       "       [5.43068230e-01],\n",
       "       [8.90486121e-01],\n",
       "       [6.37046099e-02],\n",
       "       [8.36053073e-01],\n",
       "       [9.17158008e-01],\n",
       "       [2.99785435e-01],\n",
       "       [7.94250250e-01],\n",
       "       [5.41329026e-01],\n",
       "       [6.68179989e-03],\n",
       "       [2.27977484e-01],\n",
       "       [9.59769130e-01],\n",
       "       [4.47627187e-01],\n",
       "       [9.94536638e-01],\n",
       "       [4.29984957e-01],\n",
       "       [9.49288011e-02],\n",
       "       [3.91626954e-02],\n",
       "       [4.30707932e-01],\n",
       "       [7.03889012e-01],\n",
       "       [6.56164169e-01],\n",
       "       [8.29030991e-01],\n",
       "       [9.69501376e-01],\n",
       "       [1.16002738e-01],\n",
       "       [8.91184449e-01],\n",
       "       [8.19586873e-01],\n",
       "       [9.48440194e-01],\n",
       "       [4.64274496e-01],\n",
       "       [8.93414736e-01],\n",
       "       [6.82998180e-01],\n",
       "       [3.00947756e-01],\n",
       "       [7.67070651e-01],\n",
       "       [9.15140271e-01],\n",
       "       [7.21927047e-01],\n",
       "       [1.98494792e-02],\n",
       "       [8.53988826e-02],\n",
       "       [2.03050107e-01],\n",
       "       [4.44507599e-03],\n",
       "       [9.02359545e-01],\n",
       "       [3.35014939e-01],\n",
       "       [4.36736047e-01],\n",
       "       [2.90840864e-04],\n",
       "       [9.94146109e-01],\n",
       "       [2.20021874e-01],\n",
       "       [9.94253755e-01],\n",
       "       [6.06847703e-01],\n",
       "       [3.49831223e-01],\n",
       "       [2.87795007e-01],\n",
       "       [8.39613497e-01],\n",
       "       [6.91854894e-01],\n",
       "       [9.95941758e-02],\n",
       "       [4.71465588e-01],\n",
       "       [8.26688647e-01],\n",
       "       [7.41951704e-01],\n",
       "       [8.99751782e-01],\n",
       "       [1.81366622e-01],\n",
       "       [4.09758091e-02],\n",
       "       [2.32773125e-02],\n",
       "       [8.33779097e-01],\n",
       "       [3.64161730e-02],\n",
       "       [5.19473076e-01],\n",
       "       [1.34818524e-01],\n",
       "       [8.15517843e-01],\n",
       "       [5.51462173e-03],\n",
       "       [7.76706100e-01],\n",
       "       [7.41576254e-01],\n",
       "       [4.85407025e-01],\n",
       "       [2.48176754e-02],\n",
       "       [9.43522334e-01],\n",
       "       [9.72793102e-01],\n",
       "       [1.67824924e-02],\n",
       "       [9.34660316e-01],\n",
       "       [6.63783550e-01],\n",
       "       [9.35549200e-01],\n",
       "       [2.45835781e-02],\n",
       "       [5.64436555e-01],\n",
       "       [2.42350906e-01],\n",
       "       [9.72152650e-01],\n",
       "       [1.66278481e-02],\n",
       "       [7.97764003e-01],\n",
       "       [9.30766225e-01],\n",
       "       [9.91126955e-01],\n",
       "       [8.82442594e-01],\n",
       "       [1.72781765e-01],\n",
       "       [9.34349120e-01],\n",
       "       [7.35178888e-02],\n",
       "       [7.19921768e-01],\n",
       "       [1.97704554e-01],\n",
       "       [5.01833677e-01],\n",
       "       [8.33668470e-01],\n",
       "       [4.56627756e-01],\n",
       "       [8.52097273e-01],\n",
       "       [5.52111387e-01],\n",
       "       [5.18197894e-01],\n",
       "       [4.39302772e-01],\n",
       "       [9.24551785e-01],\n",
       "       [3.47088158e-01],\n",
       "       [6.03392124e-02],\n",
       "       [3.74673188e-01],\n",
       "       [4.95409399e-01],\n",
       "       [6.59817338e-01],\n",
       "       [7.27512240e-02],\n",
       "       [6.51024342e-01],\n",
       "       [5.80656767e-01],\n",
       "       [5.36513329e-03],\n",
       "       [2.02554256e-01],\n",
       "       [8.87648463e-01],\n",
       "       [5.69906533e-01],\n",
       "       [9.71625805e-01],\n",
       "       [7.47064710e-01],\n",
       "       [8.91842306e-01],\n",
       "       [6.26416087e-01],\n",
       "       [9.51007962e-01],\n",
       "       [7.88791656e-01],\n",
       "       [8.79605472e-01],\n",
       "       [3.60763669e-02],\n",
       "       [3.34888697e-02],\n",
       "       [5.75018704e-01],\n",
       "       [1.95080042e-03],\n",
       "       [1.66857541e-02],\n",
       "       [9.66658473e-01],\n",
       "       [9.08132195e-01],\n",
       "       [5.86501777e-01],\n",
       "       [9.09953892e-01],\n",
       "       [9.41217542e-01],\n",
       "       [9.65287507e-01],\n",
       "       [6.52564287e-01],\n",
       "       [2.09116936e-03],\n",
       "       [9.00512397e-01],\n",
       "       [1.71111524e-02],\n",
       "       [7.73221135e-01],\n",
       "       [2.99816966e-01],\n",
       "       [2.68536419e-01],\n",
       "       [4.24528122e-03],\n",
       "       [2.91549861e-01],\n",
       "       [9.57172036e-01],\n",
       "       [9.08467174e-01],\n",
       "       [9.23923433e-01],\n",
       "       [8.77934039e-01],\n",
       "       [6.55483127e-01],\n",
       "       [8.53691578e-01],\n",
       "       [1.93790495e-02],\n",
       "       [9.68841910e-01],\n",
       "       [5.97226501e-01],\n",
       "       [9.29985166e-01],\n",
       "       [7.12984443e-01],\n",
       "       [8.09203982e-02],\n",
       "       [6.54865205e-02],\n",
       "       [3.84449393e-01],\n",
       "       [3.16379428e-01],\n",
       "       [9.11074877e-01],\n",
       "       [1.83123112e-01],\n",
       "       [1.26807481e-01],\n",
       "       [1.91322863e-02],\n",
       "       [1.85862184e-03],\n",
       "       [2.30414867e-02],\n",
       "       [1.64742053e-01],\n",
       "       [8.26369882e-01],\n",
       "       [7.82724142e-01],\n",
       "       [6.92233145e-01],\n",
       "       [4.34034169e-01],\n",
       "       [3.42699885e-01],\n",
       "       [1.53804451e-01],\n",
       "       [3.04228067e-02]], dtype=float32)"
      ]
     },
     "execution_count": 103,
     "metadata": {},
     "output_type": "execute_result"
    }
   ],
   "source": [
    "y_previsto_rna_proba = modelDW.predict(X_teste)\n",
    "y_previsto_rna_proba"
   ]
  },
  {
   "cell_type": "markdown",
   "metadata": {},
   "source": [
    "y_previsto_rna = y_previsto_rna_proba > 0.5\n",
    "y_previsto_rna"
   ]
  },
  {
   "cell_type": "code",
   "execution_count": 105,
   "metadata": {},
   "outputs": [
    {
     "name": "stdout",
     "output_type": "stream",
     "text": [
      "RNA D&W:\n",
      "Acurácia:  0.8014354066985646\n",
      "Precisão:  0.7848970251716247\n",
      "Recall:    0.8265060240963855\n",
      "F1 Score:  0.8051643192488263\n"
     ]
    }
   ],
   "source": [
    "print(\"RNA D&W:\")\n",
    "print(\"Acurácia: \", accuracy_score(y_teste,y_previsto_rna))\n",
    "print(\"Precisão: \", precision_score(y_teste,y_previsto_rna))\n",
    "print(\"Recall:   \", recall_score(y_teste,y_previsto_rna))\n",
    "print(\"F1 Score: \", f1_score(y_teste,y_previsto_rna))"
   ]
  },
  {
   "cell_type": "markdown",
   "metadata": {},
   "source": [
    "#### <font color='red'>*Avaliação do desempenho de cada rede neural artificial*</font>"
   ]
  },
  {
   "cell_type": "markdown",
   "metadata": {},
   "source": [
    "As redes de 10 camadas assim como redes de 20 camadas, com redes neurais internas de 4 camadas e 10 camandas internas apresentaram melhores resultados, assim como a função de ativação \"relu\" mostraram melhores resultados para o modelo preditivo."
   ]
  },
  {
   "cell_type": "markdown",
   "metadata": {},
   "source": [
    "#### <font color='red'>*Escolha da rede neural artificial final justificada e embasada no processo de avaliação de desempenho*</font>"
   ]
  },
  {
   "cell_type": "markdown",
   "metadata": {},
   "source": [
    "#### <font color='blue'>A melhor arquitetura de rede artificial segundo os resultados das redes testadas foi a rede de (20) com função de ativação relu, pois a precisão de previsão chegou a praticamente 80% das previsões de que o abalone passado no teste tem mais de 10 anos, e em torno de 20% ele pode considerar como um falso positivo, se o modelo for ser usado para adotar medidas de conservação dos moluscos considerados filhotes para o consumo, o modelo iria protejer na sua grande maioria moluscos menores garantindo a consistência da espécie e do consumo controlado. </font>"
   ]
  }
 ],
 "metadata": {
  "kernelspec": {
   "display_name": "Python 3",
   "language": "python",
   "name": "python3"
  },
  "language_info": {
   "codemirror_mode": {
    "name": "ipython",
    "version": 3
   },
   "file_extension": ".py",
   "mimetype": "text/x-python",
   "name": "python",
   "nbconvert_exporter": "python",
   "pygments_lexer": "ipython3",
   "version": "3.8.5"
  }
 },
 "nbformat": 4,
 "nbformat_minor": 2
}
